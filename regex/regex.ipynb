{
 "cells": [
  {
   "cell_type": "markdown",
   "metadata": {
    "id": "kYN6xXrf0jdy"
   },
   "source": [
    "# Basic Techniques"
   ]
  },
  {
   "cell_type": "markdown",
   "metadata": {
    "id": "jl-E8ey90y3-"
   },
   "source": [
    "## Regex"
   ]
  },
  {
   "cell_type": "markdown",
   "metadata": {
    "id": "ibjQLLG9yCZS"
   },
   "source": [
    "Expresiile regulate. Utile pentru cautare si normalizare de texte - https://www.w3schools.com/python/python_regex.asp\n"
   ]
  },
  {
   "cell_type": "code",
   "execution_count": 1,
   "metadata": {
    "id": "gFqSzXcNyPU7"
   },
   "outputs": [],
   "source": [
    "\n",
    "import re\n",
    "\n",
    "text = \"\"\"\n",
    "Praise for The Rain in Portugal\n",
    " \n",
    "'Nothing in Billy Collins’s twelfth book . . . is exactly what readers might expect, and that’s the charm of this collection.'—The Washington Post\n",
    "\n",
    "'This new collection shows [Collins] at his finest. . . . Certain to please his large readership and a good place for readers new to Collins to begin.'—Library Journal.\n",
    "\n",
    "'Disarmingly playful and wistfully candid.'—Booklist\n",
    "Buy new:$38.65\n",
    "No Import Fees Deposit & $13.01 Shipping to Romania Details -12.3.\n",
    "\"\"\""
   ]
  },
  {
   "cell_type": "markdown",
   "metadata": {
    "id": "PLNJrErsyXNN"
   },
   "source": [
    "Sterge toate caracterele diferite de litere mari si mici ale alfabetului englez, apoi normalizeaza toate secventele de caractere de tip spatii la 1 spatiu"
   ]
  },
  {
   "cell_type": "code",
   "execution_count": 2,
   "metadata": {
    "colab": {
     "base_uri": "https://localhost:8080/"
    },
    "executionInfo": {
     "elapsed": 246,
     "status": "ok",
     "timestamp": 1644683724989,
     "user": {
      "displayName": "Bogdan Iordache",
      "photoUrl": "https://lh3.googleusercontent.com/a-/AOh14Gh-PZvTGY_WfhB97fLgLmkcd8CIjhKRDgsFQiip=s64",
      "userId": "11937921055418047811"
     },
     "user_tz": -120
    },
    "id": "YP7lMkYPyW0H",
    "outputId": "1aaf8845-a230-4ca6-b06a-c893408e43b3"
   },
   "outputs": [
    {
     "name": "stdout",
     "output_type": "stream",
     "text": [
      " Praise for The Rain in Portugal Nothing in Billy Collins s twelfth book is exactly what readers might expect and that s the charm of this collection The Washington Post This new collection shows Collins at his finest Certain to please his large readership and a good place for readers new to Collins to begin Library Journal Disarmingly playful and wistfully candid Booklist Buy new No Import Fees Deposit Shipping to Romania Details \n"
     ]
    }
   ],
   "source": [
    "cleaned_text = re.sub(\"[^A-Za-z]\", \" \", text)\n",
    "cleaned_text = re.sub(\"\\s+\", \" \", cleaned_text)\n",
    "print(cleaned_text)"
   ]
  },
  {
   "cell_type": "markdown",
   "metadata": {
    "id": "_LOnaRquyhlP"
   },
   "source": [
    "Le putem testa cel mai usor pe https://pythex.org/ . Aici cautam toate numerele float sau int, impreuna cu pozitiile si valorile lor."
   ]
  },
  {
   "cell_type": "code",
   "execution_count": 3,
   "metadata": {
    "colab": {
     "base_uri": "https://localhost:8080/"
    },
    "executionInfo": {
     "elapsed": 248,
     "status": "ok",
     "timestamp": 1644684003604,
     "user": {
      "displayName": "Bogdan Iordache",
      "photoUrl": "https://lh3.googleusercontent.com/a-/AOh14Gh-PZvTGY_WfhB97fLgLmkcd8CIjhKRDgsFQiip=s64",
      "userId": "11937921055418047811"
     },
     "user_tz": -120
    },
    "id": "1uJAKaNHyUS_",
    "outputId": "d94404da-f9e8-4fb8-c00f-8c95e28d59ca"
   },
   "outputs": [
    {
     "name": "stdout",
     "output_type": "stream",
     "text": [
      "415 38.65\n",
      "447 13.01\n",
      "481 -12.3\n"
     ]
    }
   ],
   "source": [
    "pattern = re.compile(\"[+-]?(\\d+\\.)?\\d+\")\n",
    "for matching in pattern.finditer(text):\n",
    "    print(matching.start(), matching.group())"
   ]
  },
  {
   "cell_type": "markdown",
   "metadata": {
    "id": "UQMO4b6u007D"
   },
   "source": [
    "## Encodings"
   ]
  },
  {
   "cell_type": "markdown",
   "metadata": {
    "id": "bI5ffSzvfJi8"
   },
   "source": [
    "Encodarea unui text poate varia, in functie de limba si este importanta. Python foloseste standardul 'utf8'. Urmatorul exemplu este preluat dintr-o subtitrare (.srt) din limba rusa, dar nu este encodat in utf8. Citindu-l obtinem urmatoarea eroare:"
   ]
  },
  {
   "cell_type": "code",
   "execution_count": 9,
   "metadata": {
    "colab": {
     "base_uri": "https://localhost:8080/",
     "height": 338
    },
    "executionInfo": {
     "elapsed": 233,
     "status": "error",
     "timestamp": 1644678939085,
     "user": {
      "displayName": "Bogdan Iordache",
      "photoUrl": "https://lh3.googleusercontent.com/a-/AOh14Gh-PZvTGY_WfhB97fLgLmkcd8CIjhKRDgsFQiip=s64",
      "userId": "11937921055418047811"
     },
     "user_tz": -120
    },
    "id": "W1F8_BTNfOK1",
    "outputId": "1486b3df-db44-4424-b8d8-ef19cb4fe330"
   },
   "outputs": [
    {
     "name": "stdout",
     "output_type": "stream",
     "text": [
      "1\n",
      "00:00:05,100 --> 00:00:10,860\n",
      "Ýňî áűëč ň˙ćĺëűĺ âđĺěĺíŕ. Đčě íŕőîäčëń˙ ďîä ăîńďîäńňâîě ęîđđóěďčđîâŕííîăî Ďŕďű č ńîěíčňĺëüíűő çŕęîíîâ\n",
      "\n",
      "2\n",
      "00:00:10,960 --> 00:00:13,820\n",
      "čăđ âëŕńňč č ěĺćäîóńîáíîé áîđüáű\n",
      "\n",
      "3\n",
      "00:00:15,660 --> 00:00:20,310\n",
      "Ńčíüîđű íŕ÷číŕëč ćĺńňîęčĺ ńđŕćĺíč˙ ń ĺäčíńňâĺííîé öĺëüţ – íŕęîďčňü ńîńňî˙íčĺ\n",
      "\n",
      "4\n",
      "00:00:21,640 --> 00:00:24,950\n",
      "Ŕ ňĺě âđĺěĺíĺě, ďđîńňűĺ ëţäč ĺëč íĺ ęŕćäűé äĺíü\n",
      "\n",
      "5\n",
      "00:00:30,090 --> 00:00:36,040\n",
      "Ëţáîâü áűëŕ ňĺěîé äë˙ ďîýňîâ, íî đĺäęî óďîěčíŕëŕńü â ńâŕäĺáíűő ęë˙ňâŕő\n",
      "\n",
      "6\n",
      "00:00:36,940 --> 00:00:42,140\n",
      "Ćĺíůčí îňäŕâŕëč â ćĺíű ěóć÷číŕě, ęîňîđűő îíč ĺäâŕ çíŕëč, íĺ ăîâîđ˙ óćĺ î ëţáâč\n",
      "\n",
      "7\n",
      "00:00:43,040 --> 00:00:47,980\n",
      "Â ýňîě ěčđĺ, ćĺńňîęîě č íĺńďđŕâĺäëčâîě, ˙ ďîâńňđĺ÷ŕëŕ äâóő ěîëîäűő ëţäĺé\n",
      "\n"
     ]
    }
   ],
   "source": [
    "with open('encoded_text.txt', \"r\") as fin:\n",
    "    content = fin.read()\n",
    "    print(content)"
   ]
  },
  {
   "cell_type": "markdown",
   "metadata": {
    "id": "60znqZ6wfP-s"
   },
   "source": [
    "Incercam sa detectam encoding-ul lui folosind chardet"
   ]
  },
  {
   "cell_type": "code",
   "execution_count": 4,
   "metadata": {
    "id": "gvOUmRW2fRN1"
   },
   "outputs": [
    {
     "name": "stdout",
     "output_type": "stream",
     "text": [
      "Requirement already satisfied: chardet in c:\\documente\\facultate_an3\\python-env\\venv\\lib\\site-packages (5.1.0)\n"
     ]
    },
    {
     "name": "stderr",
     "output_type": "stream",
     "text": [
      "WARNING: You are using pip version 21.1.2; however, version 23.0.1 is available.\n",
      "You should consider upgrading via the 'C:\\DOCUMENTE\\Facultate_AN3\\python-env\\venv\\Scripts\\python.exe -m pip install --upgrade pip' command.\n"
     ]
    }
   ],
   "source": [
    "! pip install chardet"
   ]
  },
  {
   "cell_type": "code",
   "execution_count": 7,
   "metadata": {
    "colab": {
     "base_uri": "https://localhost:8080/"
    },
    "executionInfo": {
     "elapsed": 259,
     "status": "ok",
     "timestamp": 1644678991060,
     "user": {
      "displayName": "Bogdan Iordache",
      "photoUrl": "https://lh3.googleusercontent.com/a-/AOh14Gh-PZvTGY_WfhB97fLgLmkcd8CIjhKRDgsFQiip=s64",
      "userId": "11937921055418047811"
     },
     "user_tz": -120
    },
    "id": "pBBadYt8fXx8",
    "outputId": "8337c7c7-bd49-4889-9600-69399bde4512"
   },
   "outputs": [
    {
     "name": "stdout",
     "output_type": "stream",
     "text": [
      "{'encoding': 'windows-1251', 'confidence': 0.9865976935897622, 'language': 'Russian'}\n",
      "windows-1251\n"
     ]
    }
   ],
   "source": [
    "import chardet\n",
    "\n",
    "with open('encoded_text.txt', \"rb\") as f:\n",
    "    rawdata = f.read()\n",
    "    result = chardet.detect(rawdata)\n",
    "    print(result)\n",
    "    extracted_encoding = result['encoding']\n",
    "    print(extracted_encoding)"
   ]
  },
  {
   "cell_type": "markdown",
   "metadata": {
    "id": "XwjdvMNSfZTP"
   },
   "source": [
    "Reluam citirea si salvam continutul in format utf8"
   ]
  },
  {
   "cell_type": "code",
   "execution_count": 9,
   "metadata": {
    "id": "OPBYzpfYfcF6"
   },
   "outputs": [],
   "source": [
    "with open('encoded_text.txt', 'r', encoding=extracted_encoding) as fin:\n",
    "    content = fin.read()\n",
    "with open('utf8_text.txt', 'w', encoding='utf8') as fout:\n",
    "    fout.write(content)"
   ]
  },
  {
   "cell_type": "code",
   "execution_count": 10,
   "metadata": {
    "colab": {
     "base_uri": "https://localhost:8080/"
    },
    "executionInfo": {
     "elapsed": 240,
     "status": "ok",
     "timestamp": 1644679004976,
     "user": {
      "displayName": "Bogdan Iordache",
      "photoUrl": "https://lh3.googleusercontent.com/a-/AOh14Gh-PZvTGY_WfhB97fLgLmkcd8CIjhKRDgsFQiip=s64",
      "userId": "11937921055418047811"
     },
     "user_tz": -120
    },
    "id": "3ZwGqlQifzDk",
    "outputId": "d5330318-7461-46ab-b094-d1e19fc1fb28"
   },
   "outputs": [
    {
     "name": "stdout",
     "output_type": "stream",
     "text": [
      "1\n",
      "00:00:05,100 --> 00:00:10,860\n",
      "Это были тяжелые времена. Рим находился под господством коррумпированного Папы и сомнительных законов\n",
      "\n",
      "2\n",
      "00:00:10,960 --> 00:00:13,820\n",
      "игр власти и междоусобной борьбы\n",
      "\n",
      "3\n",
      "00:00:15,660 --> 00:00:20,310\n",
      "Синьоры начинали жестокие сражения с единственной целью – накопить состояние\n",
      "\n",
      "4\n",
      "00:00:21,640 --> 00:00:24,950\n",
      "А тем временем, простые люди ели не каждый день\n",
      "\n",
      "5\n",
      "00:00:30,090 --> 00:00:36,040\n",
      "Любовь была темой для поэтов, но редко упоминалась в свадебных клятвах\n",
      "\n",
      "6\n",
      "00:00:36,940 --> 00:00:42,140\n",
      "Женщин отдавали в жены мужчинам, которых они едва знали, не говоря уже о любви\n",
      "\n",
      "7\n",
      "00:00:43,040 --> 00:00:47,980\n",
      "В этом мире, жестоком и несправедливом, я повстречала двух молодых людей\n",
      "\n"
     ]
    }
   ],
   "source": [
    "with open('utf8_text.txt', \"r\", encoding='utf8') as fin:\n",
    "    content = fin.read()\n",
    "    print(content)"
   ]
  },
  {
   "cell_type": "markdown",
   "metadata": {
    "id": "EEC0t_4T05S2"
   },
   "source": [
    "## Non-standard files (PDF, Word, etc.)"
   ]
  },
  {
   "cell_type": "markdown",
   "metadata": {
    "id": "kT-3FzVo0QKT"
   },
   "source": [
    "Putem citi texte din documente word folosind:"
   ]
  },
  {
   "cell_type": "code",
   "execution_count": 14,
   "metadata": {},
   "outputs": [
    {
     "name": "stdout",
     "output_type": "stream",
     "text": [
      "Collecting docx2txt\n",
      "  Downloading docx2txt-0.8.tar.gz (2.8 kB)\n",
      "Building wheels for collected packages: docx2txt\n",
      "  Building wheel for docx2txt (setup.py): started\n",
      "  Building wheel for docx2txt (setup.py): finished with status 'done'\n",
      "  Created wheel for docx2txt: filename=docx2txt-0.8-py3-none-any.whl size=3982 sha256=b8174b40467d1f6d544d44fbc0c3e2e9e1ed0f38ab39fd7c9b20f8cbbd5a4450\n",
      "  Stored in directory: c:\\users\\danib\\appdata\\local\\pip\\cache\\wheels\\55\\f0\\2c\\81637d42670985178b77df6d41b9b6c6dc18c94818447414b9\n",
      "Successfully built docx2txt\n",
      "Installing collected packages: docx2txt\n",
      "Successfully installed docx2txt-0.8\n"
     ]
    },
    {
     "name": "stderr",
     "output_type": "stream",
     "text": [
      "WARNING: You are using pip version 21.1.2; however, version 23.0.1 is available.\n",
      "You should consider upgrading via the 'C:\\DOCUMENTE\\Facultate_AN3\\python-env\\venv\\Scripts\\python.exe -m pip install --upgrade pip' command.\n"
     ]
    }
   ],
   "source": [
    "! pip install docx2txt"
   ]
  },
  {
   "cell_type": "code",
   "execution_count": 11,
   "metadata": {
    "colab": {
     "base_uri": "https://localhost:8080/"
    },
    "executionInfo": {
     "elapsed": 282,
     "status": "ok",
     "timestamp": 1644684536901,
     "user": {
      "displayName": "Bogdan Iordache",
      "photoUrl": "https://lh3.googleusercontent.com/a-/AOh14Gh-PZvTGY_WfhB97fLgLmkcd8CIjhKRDgsFQiip=s64",
      "userId": "11937921055418047811"
     },
     "user_tz": -120
    },
    "id": "r9aPabVw0XBH",
    "outputId": "76ff3ec9-247c-4efd-b460-28c31dbdb652"
   },
   "outputs": [
    {
     "name": "stdout",
     "output_type": "stream",
     "text": [
      "Beautiful Soup is a Python library for pulling data out of HTML and XML files. It works with your favorite parser to provide idiomatic ways of navigating, searching, and modifying the parse tree. It commonly saves programmers hours or days of work.\n",
      "\n",
      "\n",
      "\n",
      "These instructions illustrate all major features of Beautiful Soup 4, with examples. I show you what the library is good for, how it works, how to use it, how to make it do what you want, and what to do when it violates your expectations.\n",
      "\n",
      "\n",
      "\n",
      "This document covers Beautiful Soup version 4.10.0. The examples in this documentation were written for Python 3.8.\n",
      "\n",
      "\n",
      "\n",
      "You might be looking for the documentation for Beautiful Soup 3. If so, you should know that Beautiful Soup 3 is no longer being developed and that all support for it was dropped on December 31, 2020. If you want to learn about the differences between Beautiful Soup 3 and Beautiful Soup 4, see Porting code to BS4.\n",
      "\n",
      "\n",
      "\n",
      "This documentation has been translated into other languages by Beautiful Soup users:\n"
     ]
    }
   ],
   "source": [
    "import docx2txt\n",
    "my_text = docx2txt.process(\"soup.docx\")\n",
    "print(my_text)"
   ]
  },
  {
   "cell_type": "markdown",
   "metadata": {
    "id": "rYv-2JYZ1YD3"
   },
   "source": [
    "Sau pdf-uri care sunt salvate ca texte (nu poze):"
   ]
  },
  {
   "cell_type": "code",
   "execution_count": 16,
   "metadata": {
    "id": "uZHrdF851Z3q"
   },
   "outputs": [
    {
     "name": "stderr",
     "output_type": "stream",
     "text": [
      "ERROR: pip's dependency resolver does not currently take into account all the packages that are installed. This behaviour is the source of the following dependency conflicts.\n",
      "torchvision 0.12.0 requires torch==1.11.0, but you have torch 1.7.1+cu110 which is incompatible.\n",
      "arcade 2.5.6 requires numpy==1.20.1, but you have numpy 1.24.2 which is incompatible.\n",
      "arcade 2.5.6 requires pillow~=8.1, but you have pillow 9.4.0 which is incompatible.\n",
      "WARNING: You are using pip version 21.1.2; however, version 23.0.1 is available.\n",
      "You should consider upgrading via the 'C:\\DOCUMENTE\\Facultate_AN3\\python-env\\venv\\Scripts\\python.exe -m pip install --upgrade pip' command.\n"
     ]
    },
    {
     "name": "stdout",
     "output_type": "stream",
     "text": [
      "Collecting pdfplumber\n",
      "  Downloading pdfplumber-0.8.0-py3-none-any.whl (43 kB)\n",
      "Collecting Wand>=0.6.10\n",
      "  Downloading Wand-0.6.11-py2.py3-none-any.whl (143 kB)\n",
      "Collecting Pillow>=9.1\n",
      "  Downloading Pillow-9.4.0-cp38-cp38-win_amd64.whl (2.5 MB)\n",
      "Collecting pdfminer.six==20221105\n",
      "  Downloading pdfminer.six-20221105-py3-none-any.whl (5.6 MB)\n",
      "Requirement already satisfied: charset-normalizer>=2.0.0 in c:\\users\\danib\\appdata\\local\\programs\\python\\python38\\lib\\site-packages (from pdfminer.six==20221105->pdfplumber) (2.0.9)\n",
      "Collecting cryptography>=36.0.0\n",
      "  Downloading cryptography-39.0.1-cp36-abi3-win_amd64.whl (2.5 MB)\n",
      "Requirement already satisfied: cffi>=1.12 in c:\\users\\danib\\appdata\\local\\programs\\python\\python38\\lib\\site-packages (from cryptography>=36.0.0->pdfminer.six==20221105->pdfplumber) (1.15.1)\n",
      "Requirement already satisfied: pycparser in c:\\users\\danib\\appdata\\local\\programs\\python\\python38\\lib\\site-packages (from cffi>=1.12->cryptography>=36.0.0->pdfminer.six==20221105->pdfplumber) (2.21)\n",
      "Installing collected packages: cryptography, Wand, Pillow, pdfminer.six, pdfplumber\n",
      "  Attempting uninstall: Pillow\n",
      "    Found existing installation: Pillow 8.4.0\n",
      "    Not uninstalling pillow at c:\\users\\danib\\appdata\\local\\programs\\python\\python38\\lib\\site-packages, outside environment C:\\DOCUMENTE\\Facultate_AN3\\python-env\\venv\n",
      "    Can't uninstall 'Pillow'. No files were found to uninstall.\n",
      "Successfully installed Pillow-9.4.0 Wand-0.6.11 cryptography-39.0.1 pdfminer.six-20221105 pdfplumber-0.8.0\n"
     ]
    }
   ],
   "source": [
    "! pip install pdfplumber"
   ]
  },
  {
   "cell_type": "code",
   "execution_count": 12,
   "metadata": {
    "colab": {
     "base_uri": "https://localhost:8080/"
    },
    "executionInfo": {
     "elapsed": 952,
     "status": "ok",
     "timestamp": 1644684520795,
     "user": {
      "displayName": "Bogdan Iordache",
      "photoUrl": "https://lh3.googleusercontent.com/a-/AOh14Gh-PZvTGY_WfhB97fLgLmkcd8CIjhKRDgsFQiip=s64",
      "userId": "11937921055418047811"
     },
     "user_tz": -120
    },
    "id": "A_x4wZpQ1hh8",
    "outputId": "e937a5ee-fb74-4c04-bfb2-68ad259bdf1b"
   },
   "outputs": [
    {
     "name": "stdout",
     "output_type": "stream",
     "text": [
      "Beautiful Soup is a Python library for pulling data out of HTML and XML files. It works with your favorite\n",
      "parser to provide idiomatic ways of navigating, searching, and modifying the parse tree. It commonly\n",
      "saves programmers hours or days of work.\n",
      "These instructions illustrate all major features of Beautiful Soup 4, with examples. I show you what the\n",
      "library is good for, how it works, how to use it, how to make it do what you want, and what to do when\n",
      "it violates your expectations.\n",
      "This document covers Beautiful Soup version 4.10.0. The examples in this documentation were written\n",
      "for Python 3.8.\n",
      "You might be looking for the documentation for Beautiful Soup 3. If so, you should know that Beautiful\n",
      "Soup 3 is no longer being developed and that all support for it was dropped on December 31, 2020. If\n",
      "you want to learn about the differences between Beautiful Soup 3 and Beautiful Soup 4, see Porting\n",
      "code to BS4.\n",
      "This documentation has been translated into other languages by Beautiful Soup users:\n"
     ]
    }
   ],
   "source": [
    "import pdfplumber\n",
    "with pdfplumber.open('soup.pdf') as pdf:\n",
    "    for page in pdf.pages:\n",
    "        print(page.extract_text())"
   ]
  },
  {
   "cell_type": "markdown",
   "metadata": {
    "id": "-ix-cDK_1FrO"
   },
   "source": [
    "## Web scraping"
   ]
  },
  {
   "cell_type": "markdown",
   "metadata": {
    "id": "SZ5jU3-C9Xrw"
   },
   "source": [
    "Prin scraping ne referim la o multime de metode prin care putem descarca date nestructurate din mediul web, pe care le putem apoi procesa si stoca sub forma structurata."
   ]
  },
  {
   "cell_type": "markdown",
   "metadata": {
    "id": "kz0-C3BJj9V_"
   },
   "source": [
    "Ca prim exemplu de scraping vom incerca urmatorul task: pornind de la site-ul de programare competitiva \"infoarena.ro\" dorim pentru un utilizator sa descarcam informatii despre toate submisiile efectuate de acesta.\n",
    "\n",
    "Exemplu pagina de submisii: https://www.infoarena.ro/monitor?user=iordache.bogdan\n",
    "\n",
    "Pentru a realiza un request care sa intoarca continutul paginii putem folosi biblioteca \"requests\":"
   ]
  },
  {
   "cell_type": "code",
   "execution_count": 14,
   "metadata": {},
   "outputs": [
    {
     "name": "stdout",
     "output_type": "stream",
     "text": [
      "Requirement already satisfied: requests in c:\\users\\danib\\appdata\\local\\programs\\python\\python38\\lib\\site-packages (2.26.0)\n",
      "Requirement already satisfied: idna<4,>=2.5 in c:\\users\\danib\\appdata\\local\\programs\\python\\python38\\lib\\site-packages (from requests) (3.3)\n",
      "Requirement already satisfied: urllib3<1.27,>=1.21.1 in c:\\users\\danib\\appdata\\local\\programs\\python\\python38\\lib\\site-packages (from requests) (1.26.7)\n",
      "Requirement already satisfied: certifi>=2017.4.17 in c:\\users\\danib\\appdata\\local\\programs\\python\\python38\\lib\\site-packages (from requests) (2021.10.8)\n",
      "Requirement already satisfied: charset-normalizer~=2.0.0 in c:\\users\\danib\\appdata\\local\\programs\\python\\python38\\lib\\site-packages (from requests) (2.0.9)\n"
     ]
    },
    {
     "name": "stderr",
     "output_type": "stream",
     "text": [
      "WARNING: You are using pip version 21.1.2; however, version 23.0.1 is available.\n",
      "You should consider upgrading via the 'C:\\DOCUMENTE\\Facultate_AN3\\python-env\\venv\\Scripts\\python.exe -m pip install --upgrade pip' command.\n"
     ]
    }
   ],
   "source": [
    "! pip install requests"
   ]
  },
  {
   "cell_type": "code",
   "execution_count": 15,
   "metadata": {
    "id": "Kp2mSeC_9CCu"
   },
   "outputs": [],
   "source": [
    "import requests\n",
    "\n",
    "def get_submissions_page(user):\n",
    "    return requests.get(f\"https://www.infoarena.ro/monitor?user={user}\")"
   ]
  },
  {
   "cell_type": "code",
   "execution_count": 16,
   "metadata": {
    "id": "13W4i-G3k7hl"
   },
   "outputs": [],
   "source": [
    "html = get_submissions_page(\"iordache.bogdan\").content"
   ]
  },
  {
   "cell_type": "code",
   "execution_count": 20,
   "metadata": {
    "collapsed": false,
    "pycharm": {
     "name": "#%%\n"
    }
   },
   "outputs": [
    {
     "name": "stdout",
     "output_type": "stream",
     "text": [
      "b'<!DOCTYPE html PUBLIC \"-//W3C//DTD XHTML 1.0 Transitional//EN\" \"http://www.w3.org/TR/xhtml1/DTD/xhtml1-transitional.dtd\">\\n<html xmlns=\"http://www.w3.org/1999/xhtml\">\\n<head>\\n<meta http-equiv=\"Content-Type\" content=\"text/html; charset=UTF-8\" />\\n<title>Monitorul de evaluare</title>\\n<link type=\"text/css\" rel=\"stylesheet\" href=\"/static/css/sitewide.css\" />\\n<link type=\"text/css\" rel=\"stylesheet\" href=\"/static/css/iconize.css\" />\\n<link type=\"text/css\" rel=\"stylesheet\" href=\"/static/css/screen.css\" />\\n<link type=\"text/css\" rel=\"stylesheet\" href=\"/static/css/tabber.css\" />\\n<link type=\"text/css\" rel=\"stylesheet\" href=\"/static/css/highlight-theme.css\" />\\n<link type=\"text/css\" rel=\"stylesheet\" href=\"/static/css/print.css\" media=\"print\" />\\n<link rel=\"icon\" href=\"https://infoarena.ro/favicon.ico\" type=\"image/vnd.microsoft.icon\" />\\n<script type=\"text/javascript\" src=\"/static/js/config.js.php\"></script>\\n<script type=\"text/javascript\" src=\"//ajax.googleapis.com/ajax/libs/jquery/1.7.2/jquery.min.js\"></script>\\n<script type=\"text/javascript\" src=\"/static/js/default.js\"></script>\\n<script type=\"text/javascript\" src=\"/static/js/tabber-minimized.js\"></script>\\n<script type=\"text/javascript\" src=\"/static/js/submit.js\"></script>\\n<script type=\"text/javascript\" src=\"/static/js/remotebox.js\"></script>\\n<script type=\"text/javascript\" src=\"/static/js/postdata.js\"></script>\\n<script type=\"text/javascript\" src=\"/static/js/highlight.pack.js\"></script>\\n<script type=\"text/javascript\" src=\"/static/js/highlight-line-numbers.min.js\"></script>\\n<script type=\"text/javascript\" src=\"/static/js/tags.js\"></script>\\n<script type=\"text/javascript\" src=\"/static/js/roundtimer.js\"></script>\\n<script type=\"text/javascript\" src=\"/static/js/restoreparity.js\"></script>\\n<script type=\"text/javascript\" src=\"/static/js/foreach.js\"></script>\\n<script type=\"text/javascript\" src=\"/static/js/sorttable.js\"></script>\\n<script type=\"text/javascript\" src=\"/static/js/tablednd.js\"></script>\\n<script type=\"text/javascript\">\\n        hljs.initHighlightingOnLoad();\\n        hljs.initLineNumbersOnLoad();\\n    </script>\\n<script type=\"text/javascript\" src=\"/static/js/monitor.js\"></script></head>\\n<body id=\"infoarena\">\\n<div id=\"page\">\\n<div id=\"header\" class=\"clear\">\\n<h1><a href=\"/\">infoarena informatica de performanta</a></h1>\\n</div>\\n<div id=\"topnav\">\\n<ul>\\n<li>\\n<strong> <a href=\"/\">info<em>arena</em></a> </strong> </li>\\n<li>\\n<a accesskey=\"b\" href=\"/blog\"><span class=\"access-key\">b</span>log</a> </li>\\n<li>\\n<a accesskey=\"f\" href=\"https://infoarena.ro/forum\"><span class=\"access-key\">f</span>orum</a> </li>\\n<li>\\n<a href=\"https://infoarena.ro/forum?action=calendar\">calendar</a> </li>\\n<li>\\n<a href=\"https://infoarena.ro/login\">autentificare</a> </li>\\n<li>\\n<a href=\"https://infoarena.ro/register\">inregistrare</a> </li>\\n</ul>\\n</div>\\n<div id=\"content_small\" class=\"clear\">\\n<div id=\"sidebar\">\\n<ul id=\"nav\" class=\"clear\">\\n<li><a href=\"/\">Home</a></li>\\n<li><a accesskey=\"a\" href=\"/arhiva\"><span class=\"access-key\">A</span>rhiva de probleme</a></li>\\n<li><a href=\"/arhiva-educationala\">Arhiva educational\\xc4\\x83</a></li>\\n<li><a href=\"/arhiva-monthly\">Arhiva monthly</a></li>\\n<li><a href=\"/arhiva-acm\">Arhiva ACM</a></li>\\n<li><a href=\"/concursuri\">Concursuri</a></li>\\n<li><a href=\"/concursuri-virtuale\">Concursuri virtuale</a></li>\\n<li><a href=\"/clasament-rating\">Clasament</a></li>\\n<li><a href=\"/articole\">Articole</a></li>\\n<li><a href=\"/downloads\">Downloads</a></li>\\n<li><a href=\"/links\">Links</a></li>\\n<li><a href=\"/documentatie\">Documenta\\xc5\\xa3ie</a></li>\\n<li><a href=\"/despre-infoarena\">Despre infoarena</a></li>\\n<li class=\"separator\"><hr /></li>\\n<li><a accesskey=\"m\" href=\"/monitor\"><span class=\"access-key\">M</span>onitorul de evaluare</a></li>\\n</ul>\\n<div id=\"google-search\">\\n\\n<form id=\"searchbox_010130381492294265836:kw-fmmvpxco\" action=\"https://infoarena.ro/search\">\\n<fieldset>\\n<legend><img src=\"/static/images/icons/search.png\" alt=\"!\" /> Cautare</legend>\\n<input type=\"hidden\" name=\"cx\" value=\"010130381492294265836:kw-fmmvpxco\" />\\n<input type=\"hidden\" name=\"cof\" value=\"FORID:9\" />\\n<input name=\"q\" type=\"text\" size=\"22\" />\\n<input type=\"submit\" name=\"sa\" value=\"Cauta\" class=\"button important\" />\\n</fieldset>\\n</form>\\n<script type=\"text/javascript\" src=\"https://www.google.com/coop/cse/brand?form=searchbox_010130381492294265836%3Akw-fmmvpxco\"></script>\\n\\n</div>\\n<div id=\"calendar\">\\n<div class=\"calendar\"><div class=\"header\"><a href=\"https://infoarena.ro/forum?action=calendar\">In curand...</a></div></div> </div>\\n<div id=\"login\">\\n<form action=\"https://infoarena.ro/login\" method=\"post\" class=\"login\">\\n<table class=\"form\">\\n<tr>\\n<td>\\n<fieldset>\\n<legend><img src=\"/static/images/icons/login.png\" alt=\"!\" /> Autentificare</legend>\\n<ul class=\"form\">\\n<li id=\"field_username\">\\n<label for=\"form_username\">Cont de utilizator</label>\\n<input type=\"text\" name=\"username\" id=\"form_username\" />\\n</li>\\n<li id=\"field_password\">\\n<label for=\"form_password\">Parola</label>\\n<input type=\"password\" name=\"password\" id=\"form_password\" />\\n</li>\\n<li>\\n<input type=\"checkbox\" value=\"on\" id=\"form_remember\" name=\"remember\" class=\"checkbox\" />\\n<label class=\"checkbox\" for=\"form_remember\">Pastreaza-ma autentificat 5 zile</label>\\n</li>\\n</ul>\\n</fieldset>\\n</td>\\n</tr>\\n</table>\\n<ul class=\"form clear\">\\n<li>\\n<input type=\"submit\" value=\"Autentificare\" id=\"form_submit\" class=\"button important\" />\\n</li>\\n</ul>\\n</form>\\n<p>\\n<a href=\"https://infoarena.ro/register\">Ma inregistrez!</a><br />\\n<a href=\"/resetpass\">Mi-am uitat parola...</a> </p>\\n</div>\\n<p class=\"user-count\">156623 membri inregistrati</p>\\n<div id=\"srv_time\" class=\"user-count\" align=\"center\"></div>\\n<script type=\"text/javascript\" src=\"/static/js/time.js\"></script>\\n<script type=\"text/javascript\">loadTime(10, 22, 39);</script>\\n<div class=\"ad\">\\n<div class=\"wiki_text_block\"><p class=\"center\" style=\"text-align:center\"><a href=\"/implica-te\">Fii un bun infoarenaut! Implic\\xc4\\x83-te!</a></p></div></div>\\n</div>\\n<div id=\"main\">\\n<script type=\"text/javascript\">\\n        Monitor_Url = \\'https://infoarena.ro/monitor?user=iordache.bogdan&only_table=1&first_entry=0&display_entries=25\\';\\n    </script>\\n<h1>Monitorul de evaluare</h1><ul class=\"htabs\">\\n<li><a href=\"/monitor\">Toate solutiile</a></li> <li class=\"active\"><a href=\"/monitor\">Trimise de &quot;iordache.bogdan&quot;</a></li></ul>\\n<div id=\"monitor-table\"><div class=\"pager\"><div class=\"standard-pager\">Vezi pagina: <span class=\"selected\"><strong>1</strong></span> <a accesskey=\"2\" href=\"/monitor?user=iordache.bogdan&amp;display_entries=25&amp;first_entry=25\">2</a><a accesskey=\"3\" href=\"/monitor?user=iordache.bogdan&amp;display_entries=25&amp;first_entry=50\">3</a><a accesskey=\"4\" href=\"/monitor?user=iordache.bogdan&amp;display_entries=25&amp;first_entry=75\">4</a>... <a href=\"/monitor?user=iordache.bogdan&amp;display_entries=25&amp;first_entry=4975\">200</a><a href=\"/monitor?user=iordache.bogdan&amp;display_entries=25&amp;first_entry=5000\">201</a><a href=\"/monitor?user=iordache.bogdan&amp;display_entries=25&amp;first_entry=5025\">202</a><span class=\"count\">&nbsp;(5033 rezultate)</span> </div></div><table class=\\'monitor\\'><thead><tr><th>ID</th><th>Utilizator</th><th>Problema</th><th>Runda</th><th>Marime</th><th>Data</th><th>Stare</th></tr></thead><tbody><tr class=\"odd\"><td><a href=\"/job_detail/2971352\">#2971352</a></td><td><span class=\"tiny-user\"><a href=\"https://www.infoarena.ro/utilizator/iordache.bogdan\"><img src=\"/avatar/tiny/iordache.bogdan\" alt=\"iordache.bogdan\" />Iordache Ioan-Bogdan</a> <span class=\"username\"><a href=\"https://www.infoarena.ro/utilizator/iordache.bogdan\">iordache.bogdan</a></span></span></td><td><a href=\"/problema/atac\">Atac</a></td><td><a href=\"/arhiva\">Arhiva de probleme</a></td><td><a href=\"/job_detail/2971352?action=view-source\">2.35 kb</a></td><td>27 ian 23 01:27:44</td><td><a href=\"/job_detail/2971352\"><span class=\"job-status-done\">Evaluare completa: 100 puncte</span></a></td></tr><tr class=\"even\"><td><a href=\"/job_detail/2971346\">#2971346</a></td><td><span class=\"tiny-user\"><a href=\"https://www.infoarena.ro/utilizator/iordache.bogdan\"><img src=\"/avatar/tiny/iordache.bogdan\" alt=\"iordache.bogdan\" />Iordache Ioan-Bogdan</a> <span class=\"username\"><a href=\"https://www.infoarena.ro/utilizator/iordache.bogdan\">iordache.bogdan</a></span></span></td><td><a href=\"/problema/atac\">Atac</a></td><td><a href=\"/arhiva\">Arhiva de probleme</a></td><td><a href=\"/job_detail/2971346?action=view-source\">2.33 kb</a></td><td>27 ian 23 01:07:30</td><td><a href=\"/job_detail/2971346\"><span class=\"job-status-done\">Evaluare completa: 20 puncte</span></a></td></tr><tr class=\"odd\"><td><a href=\"/job_detail/2971294\">#2971294</a></td><td><span class=\"tiny-user\"><a href=\"https://www.infoarena.ro/utilizator/iordache.bogdan\"><img src=\"/avatar/tiny/iordache.bogdan\" alt=\"iordache.bogdan\" />Iordache Ioan-Bogdan</a> <span class=\"username\"><a href=\"https://www.infoarena.ro/utilizator/iordache.bogdan\">iordache.bogdan</a></span></span></td><td><a href=\"/problema/pirati\">Pirati</a></td><td><a href=\"/arhiva\">Arhiva de probleme</a></td><td><a href=\"/job_detail/2971294?action=view-source\">3.01 kb</a></td><td>26 ian 23 23:18:14</td><td><a href=\"/job_detail/2971294\"><span class=\"job-status-done\">Evaluare completa: 100 puncte</span></a></td></tr><tr class=\"even\"><td><a href=\"/job_detail/2970859\">#2970859</a></td><td><span class=\"tiny-user\"><a href=\"https://www.infoarena.ro/utilizator/iordache.bogdan\"><img src=\"/avatar/tiny/iordache.bogdan\" alt=\"iordache.bogdan\" />Iordache Ioan-Bogdan</a> <span class=\"username\"><a href=\"https://www.infoarena.ro/utilizator/iordache.bogdan\">iordache.bogdan</a></span></span></td><td><a href=\"/problema/lca\">Lowest Common Ancestor</a></td><td><a href=\"/arhiva-educationala\">Arhiva educationala</a></td><td><a href=\"/job_detail/2970859?action=view-source\">1.95 kb</a></td><td>25 ian 23 23:42:36</td><td><a href=\"/job_detail/2970859\"><span class=\"job-status-done\">Evaluare completa: 100 puncte</span></a></td></tr><tr class=\"odd\"><td><a href=\"/job_detail/2970853\">#2970853</a></td><td><span class=\"tiny-user\"><a href=\"https://www.infoarena.ro/utilizator/iordache.bogdan\"><img src=\"/avatar/tiny/iordache.bogdan\" alt=\"iordache.bogdan\" />Iordache Ioan-Bogdan</a> <span class=\"username\"><a href=\"https://www.infoarena.ro/utilizator/iordache.bogdan\">iordache.bogdan</a></span></span></td><td><a href=\"/problema/lca\">Lowest Common Ancestor</a></td><td><a href=\"/arhiva-educationala\">Arhiva educationala</a></td><td><a href=\"/job_detail/2970853?action=view-source\">1.61 kb</a></td><td>25 ian 23 23:19:15</td><td><a href=\"/job_detail/2970853\"><span class=\"job-status-done\">Evaluare completa: 100 puncte</span></a></td></tr><tr class=\"even\"><td><a href=\"/job_detail/2970841\">#2970841</a></td><td><span class=\"tiny-user\"><a href=\"https://www.infoarena.ro/utilizator/iordache.bogdan\"><img src=\"/avatar/tiny/iordache.bogdan\" alt=\"iordache.bogdan\" />Iordache Ioan-Bogdan</a> <span class=\"username\"><a href=\"https://www.infoarena.ro/utilizator/iordache.bogdan\">iordache.bogdan</a></span></span></td><td><a href=\"/problema/lca\">Lowest Common Ancestor</a></td><td><a href=\"/arhiva-educationala\">Arhiva educationala</a></td><td><a href=\"/job_detail/2970841?action=view-source\">0.88 kb</a></td><td>25 ian 23 23:04:09</td><td><a href=\"/job_detail/2970841\"><span class=\"job-status-done\">Evaluare completa: 90 puncte</span></a></td></tr><tr class=\"odd\"><td><a href=\"/job_detail/2836860\">#2836860</a></td><td><span class=\"tiny-user\"><a href=\"https://www.infoarena.ro/utilizator/iordache.bogdan\"><img src=\"/avatar/tiny/iordache.bogdan\" alt=\"iordache.bogdan\" />Iordache Ioan-Bogdan</a> <span class=\"username\"><a href=\"https://www.infoarena.ro/utilizator/iordache.bogdan\">iordache.bogdan</a></span></span></td><td><a href=\"/problema/luff\">Luff</a></td><td><a href=\"/arhiva\">Arhiva de probleme</a></td><td><a href=\"/job_detail/2836860?action=view-source\">2.35 kb</a></td><td>21 ian 22 00:50:03</td><td><a href=\"/job_detail/2836860\"><span class=\"job-status-done\">Evaluare completa: 100 puncte</span></a></td></tr><tr class=\"even\"><td><a href=\"/job_detail/2836859\">#2836859</a></td><td><span class=\"tiny-user\"><a href=\"https://www.infoarena.ro/utilizator/iordache.bogdan\"><img src=\"/avatar/tiny/iordache.bogdan\" alt=\"iordache.bogdan\" />Iordache Ioan-Bogdan</a> <span class=\"username\"><a href=\"https://www.infoarena.ro/utilizator/iordache.bogdan\">iordache.bogdan</a></span></span></td><td><a href=\"/problema/luff\">Luff</a></td><td><a href=\"/arhiva\">Arhiva de probleme</a></td><td><a href=\"/job_detail/2836859?action=view-source\">2.35 kb</a></td><td>21 ian 22 00:49:40</td><td><a href=\"/job_detail/2836859\"><span class=\"job-status-done\">Eroare de compilare: 0 puncte</span></a></td></tr><tr class=\"odd\"><td><a href=\"/job_detail/2836858\">#2836858</a></td><td><span class=\"tiny-user\"><a href=\"https://www.infoarena.ro/utilizator/iordache.bogdan\"><img src=\"/avatar/tiny/iordache.bogdan\" alt=\"iordache.bogdan\" />Iordache Ioan-Bogdan</a> <span class=\"username\"><a href=\"https://www.infoarena.ro/utilizator/iordache.bogdan\">iordache.bogdan</a></span></span></td><td><a href=\"/problema/luff\">Luff</a></td><td><a href=\"/arhiva\">Arhiva de probleme</a></td><td><a href=\"/job_detail/2836858?action=view-source\">2.08 kb</a></td><td>21 ian 22 00:41:56</td><td><a href=\"/job_detail/2836858\"><span class=\"job-status-done\">Evaluare completa: 70 puncte</span></a></td></tr><tr class=\"even\"><td><a href=\"/job_detail/2836856\">#2836856</a></td><td><span class=\"tiny-user\"><a href=\"https://www.infoarena.ro/utilizator/iordache.bogdan\"><img src=\"/avatar/tiny/iordache.bogdan\" alt=\"iordache.bogdan\" />Iordache Ioan-Bogdan</a> <span class=\"username\"><a href=\"https://www.infoarena.ro/utilizator/iordache.bogdan\">iordache.bogdan</a></span></span></td><td><a href=\"/problema/luff\">Luff</a></td><td><a href=\"/arhiva\">Arhiva de probleme</a></td><td><a href=\"/job_detail/2836856?action=view-source\">2.95 kb</a></td><td>21 ian 22 00:36:59</td><td><a href=\"/job_detail/2836856\"><span class=\"job-status-done\">Evaluare completa: 70 puncte</span></a></td></tr><tr class=\"odd\"><td><a href=\"/job_detail/2836855\">#2836855</a></td><td><span class=\"tiny-user\"><a href=\"https://www.infoarena.ro/utilizator/iordache.bogdan\"><img src=\"/avatar/tiny/iordache.bogdan\" alt=\"iordache.bogdan\" />Iordache Ioan-Bogdan</a> <span class=\"username\"><a href=\"https://www.infoarena.ro/utilizator/iordache.bogdan\">iordache.bogdan</a></span></span></td><td><a href=\"/problema/luff\">Luff</a></td><td><a href=\"/arhiva\">Arhiva de probleme</a></td><td><a href=\"/job_detail/2836855?action=view-source\">2.95 kb</a></td><td>21 ian 22 00:36:26</td><td><a href=\"/job_detail/2836855\"><span class=\"job-status-done\">Evaluare completa: 70 puncte</span></a></td></tr><tr class=\"even\"><td><a href=\"/job_detail/2836828\">#2836828</a></td><td><span class=\"tiny-user\"><a href=\"https://www.infoarena.ro/utilizator/iordache.bogdan\"><img src=\"/avatar/tiny/iordache.bogdan\" alt=\"iordache.bogdan\" />Iordache Ioan-Bogdan</a> <span class=\"username\"><a href=\"https://www.infoarena.ro/utilizator/iordache.bogdan\">iordache.bogdan</a></span></span></td><td><a href=\"/problema/egal\">Egal</a></td><td><a href=\"/arhiva\">Arhiva de probleme</a></td><td><a href=\"/job_detail/2836828?action=view-source\">1.59 kb</a></td><td>20 ian 22 22:53:06</td><td><a href=\"/job_detail/2836828\"><span class=\"job-status-done\">Evaluare completa: 100 puncte</span></a></td></tr><tr class=\"odd\"><td><a href=\"/job_detail/2836826\">#2836826</a></td><td><span class=\"tiny-user\"><a href=\"https://www.infoarena.ro/utilizator/iordache.bogdan\"><img src=\"/avatar/tiny/iordache.bogdan\" alt=\"iordache.bogdan\" />Iordache Ioan-Bogdan</a> <span class=\"username\"><a href=\"https://www.infoarena.ro/utilizator/iordache.bogdan\">iordache.bogdan</a></span></span></td><td><a href=\"/problema/egal\">Egal</a></td><td><a href=\"/arhiva\">Arhiva de probleme</a></td><td><a href=\"/job_detail/2836826?action=view-source\">1.58 kb</a></td><td>20 ian 22 22:51:46</td><td><a href=\"/job_detail/2836826\"><span class=\"job-status-done\">Eroare de compilare: 0 puncte</span></a></td></tr><tr class=\"even\"><td><a href=\"/job_detail/2810344\">#2810344</a></td><td><span class=\"tiny-user\"><a href=\"https://www.infoarena.ro/utilizator/iordache.bogdan\"><img src=\"/avatar/tiny/iordache.bogdan\" alt=\"iordache.bogdan\" />Iordache Ioan-Bogdan</a> <span class=\"username\"><a href=\"https://www.infoarena.ro/utilizator/iordache.bogdan\">iordache.bogdan</a></span></span></td><td><a href=\"/problema/graf\">Graf</a></td><td><a href=\"/arhiva\">Arhiva de probleme</a></td><td><a href=\"/job_detail/2810344?action=view-source\">1.81 kb</a></td><td>29 nov 21 10:39:00</td><td><a href=\"/job_detail/2810344\"><span class=\"job-status-done\">Evaluare completa: 100 puncte</span></a></td></tr><tr class=\"odd\"><td><a href=\"/job_detail/2810342\">#2810342</a></td><td><span class=\"tiny-user\"><a href=\"https://www.infoarena.ro/utilizator/iordache.bogdan\"><img src=\"/avatar/tiny/iordache.bogdan\" alt=\"iordache.bogdan\" />Iordache Ioan-Bogdan</a> <span class=\"username\"><a href=\"https://www.infoarena.ro/utilizator/iordache.bogdan\">iordache.bogdan</a></span></span></td><td><a href=\"/problema/graf\">Graf</a></td><td><a href=\"/arhiva\">Arhiva de probleme</a></td><td><a href=\"/job_detail/2810342?action=view-source\">1.82 kb</a></td><td>29 nov 21 10:38:13</td><td><a href=\"/job_detail/2810342\"><span class=\"job-status-done\">Evaluare completa: 0 puncte</span></a></td></tr><tr class=\"even\"><td><a href=\"/job_detail/2666379\">#2666379</a></td><td><span class=\"tiny-user\"><a href=\"https://www.infoarena.ro/utilizator/iordache.bogdan\"><img src=\"/avatar/tiny/iordache.bogdan\" alt=\"iordache.bogdan\" />Iordache Ioan-Bogdan</a> <span class=\"username\"><a href=\"https://www.infoarena.ro/utilizator/iordache.bogdan\">iordache.bogdan</a></span></span></td><td><a href=\"/problema/maxflow\">Flux maxim</a></td><td><a href=\"/arhiva-educationala\">Arhiva educationala</a></td><td><a href=\"/job_detail/2666379?action=view-source\">2.12 kb</a></td><td> 1 nov 20 17:41:56</td><td><a href=\"/job_detail/2666379\"><span class=\"job-status-done\">Evaluare completa: 100 puncte</span></a></td></tr><tr class=\"odd\"><td><a href=\"/job_detail/2666378\">#2666378</a></td><td><span class=\"tiny-user\"><a href=\"https://www.infoarena.ro/utilizator/iordache.bogdan\"><img src=\"/avatar/tiny/iordache.bogdan\" alt=\"iordache.bogdan\" />Iordache Ioan-Bogdan</a> <span class=\"username\"><a href=\"https://www.infoarena.ro/utilizator/iordache.bogdan\">iordache.bogdan</a></span></span></td><td><a href=\"/problema/maxflow\">Flux maxim</a></td><td><a href=\"/arhiva-educationala\">Arhiva educationala</a></td><td><a href=\"/job_detail/2666378?action=view-source\">2.12 kb</a></td><td> 1 nov 20 17:41:18</td><td><a href=\"/job_detail/2666378\"><span class=\"job-status-done\">Eroare de compilare: 0 puncte</span></a></td></tr><tr class=\"even\"><td><a href=\"/job_detail/2461195\">#2461195</a></td><td><span class=\"tiny-user\"><a href=\"https://www.infoarena.ro/utilizator/iordache.bogdan\"><img src=\"/avatar/tiny/iordache.bogdan\" alt=\"iordache.bogdan\" />Iordache Ioan-Bogdan</a> <span class=\"username\"><a href=\"https://www.infoarena.ro/utilizator/iordache.bogdan\">iordache.bogdan</a></span></span></td><td><a href=\"/problema/fmcm\">Flux maxim de cost minim</a></td><td><a href=\"/arhiva-educationala\">Arhiva educationala</a></td><td><a href=\"/job_detail/2461195?action=view-source\">2.77 kb</a></td><td>25 sep 19 00:09:12</td><td><a href=\"/job_detail/2461195\"><span class=\"job-status-done\">Evaluare completa: 100 puncte</span></a></td></tr><tr class=\"odd\"><td><a href=\"/job_detail/2461188\">#2461188</a></td><td><span class=\"tiny-user\"><a href=\"https://www.infoarena.ro/utilizator/iordache.bogdan\"><img src=\"/avatar/tiny/iordache.bogdan\" alt=\"iordache.bogdan\" />Iordache Ioan-Bogdan</a> <span class=\"username\"><a href=\"https://www.infoarena.ro/utilizator/iordache.bogdan\">iordache.bogdan</a></span></span></td><td><a href=\"/problema/fmcm\">Flux maxim de cost minim</a></td><td><a href=\"/arhiva-educationala\">Arhiva educationala</a></td><td><a href=\"/job_detail/2461188?action=view-source\">6.52 kb</a></td><td>24 sep 19 23:57:40</td><td><a href=\"/job_detail/2461188\"><span class=\"job-status-done\">Evaluare completa: 70 puncte</span></a></td></tr><tr class=\"even\"><td><a href=\"/job_detail/2461187\">#2461187</a></td><td><span class=\"tiny-user\"><a href=\"https://www.infoarena.ro/utilizator/iordache.bogdan\"><img src=\"/avatar/tiny/iordache.bogdan\" alt=\"iordache.bogdan\" />Iordache Ioan-Bogdan</a> <span class=\"username\"><a href=\"https://www.infoarena.ro/utilizator/iordache.bogdan\">iordache.bogdan</a></span></span></td><td><a href=\"/problema/fmcm\">Flux maxim de cost minim</a></td><td><a href=\"/arhiva-educationala\">Arhiva educationala</a></td><td><a href=\"/job_detail/2461187?action=view-source\">3.16 kb</a></td><td>24 sep 19 23:57:19</td><td><a href=\"/job_detail/2461187\"><span class=\"job-status-done\">Evaluare completa: 70 puncte</span></a></td></tr><tr class=\"odd\"><td><a href=\"/job_detail/2461151\">#2461151</a></td><td><span class=\"tiny-user\"><a href=\"https://www.infoarena.ro/utilizator/iordache.bogdan\"><img src=\"/avatar/tiny/iordache.bogdan\" alt=\"iordache.bogdan\" />Iordache Ioan-Bogdan</a> <span class=\"username\"><a href=\"https://www.infoarena.ro/utilizator/iordache.bogdan\">iordache.bogdan</a></span></span></td><td><a href=\"/problema/fmcm\">Flux maxim de cost minim</a></td><td><a href=\"/arhiva-educationala\">Arhiva educationala</a></td><td><a href=\"/job_detail/2461151?action=view-source\">2.77 kb</a></td><td>24 sep 19 22:11:49</td><td><a href=\"/job_detail/2461151\"><span class=\"job-status-done\">Evaluare completa: 10 puncte</span></a></td></tr><tr class=\"even\"><td><a href=\"/job_detail/2461149\">#2461149</a></td><td><span class=\"tiny-user\"><a href=\"https://www.infoarena.ro/utilizator/iordache.bogdan\"><img src=\"/avatar/tiny/iordache.bogdan\" alt=\"iordache.bogdan\" />Iordache Ioan-Bogdan</a> <span class=\"username\"><a href=\"https://www.infoarena.ro/utilizator/iordache.bogdan\">iordache.bogdan</a></span></span></td><td><a href=\"/problema/fmcm\">Flux maxim de cost minim</a></td><td><a href=\"/arhiva-educationala\">Arhiva educationala</a></td><td><a href=\"/job_detail/2461149?action=view-source\">2.81 kb</a></td><td>24 sep 19 22:10:18</td><td><a href=\"/job_detail/2461149\"><span class=\"job-status-done\">Evaluare completa: 10 puncte</span></a></td></tr><tr class=\"odd\"><td><a href=\"/job_detail/2460620\">#2460620</a></td><td><span class=\"tiny-user\"><a href=\"https://www.infoarena.ro/utilizator/iordache.bogdan\"><img src=\"/avatar/tiny/iordache.bogdan\" alt=\"iordache.bogdan\" />Iordache Ioan-Bogdan</a> <span class=\"username\"><a href=\"https://www.infoarena.ro/utilizator/iordache.bogdan\">iordache.bogdan</a></span></span></td><td><a href=\"/problema/fmcm\">Flux maxim de cost minim</a></td><td><a href=\"/arhiva-educationala\">Arhiva educationala</a></td><td><a href=\"/job_detail/2460620?action=view-source\">2.77 kb</a></td><td>24 sep 19 02:51:18</td><td><a href=\"/job_detail/2460620\"><span class=\"job-status-done\">Evaluare completa: 100 puncte</span></a></td></tr><tr class=\"even\"><td><a href=\"/job_detail/2460619\">#2460619</a></td><td><span class=\"tiny-user\"><a href=\"https://www.infoarena.ro/utilizator/iordache.bogdan\"><img src=\"/avatar/tiny/iordache.bogdan\" alt=\"iordache.bogdan\" />Iordache Ioan-Bogdan</a> <span class=\"username\"><a href=\"https://www.infoarena.ro/utilizator/iordache.bogdan\">iordache.bogdan</a></span></span></td><td><a href=\"/problema/fmcm\">Flux maxim de cost minim</a></td><td><a href=\"/arhiva-educationala\">Arhiva educationala</a></td><td><a href=\"/job_detail/2460619?action=view-source\">2.79 kb</a></td><td>24 sep 19 02:47:43</td><td><a href=\"/job_detail/2460619\"><span class=\"job-status-done\">Evaluare completa: 70 puncte</span></a></td></tr><tr class=\"odd\"><td><a href=\"/job_detail/2460618\">#2460618</a></td><td><span class=\"tiny-user\"><a href=\"https://www.infoarena.ro/utilizator/iordache.bogdan\"><img src=\"/avatar/tiny/iordache.bogdan\" alt=\"iordache.bogdan\" />Iordache Ioan-Bogdan</a> <span class=\"username\"><a href=\"https://www.infoarena.ro/utilizator/iordache.bogdan\">iordache.bogdan</a></span></span></td><td><a href=\"/problema/fmcm\">Flux maxim de cost minim</a></td><td><a href=\"/arhiva-educationala\">Arhiva educationala</a></td><td><a href=\"/job_detail/2460618?action=view-source\">2.83 kb</a></td><td>24 sep 19 02:44:13</td><td><a href=\"/job_detail/2460618\"><span class=\"job-status-done\">Evaluare completa: 100 puncte</span></a></td></tr></tbody></table><div class=\"pager\"><div class=\"standard-pager\">Vezi pagina: <span class=\"selected\"><strong>1</strong></span> <a accesskey=\"2\" href=\"/monitor?user=iordache.bogdan&amp;display_entries=25&amp;first_entry=25\">2</a><a accesskey=\"3\" href=\"/monitor?user=iordache.bogdan&amp;display_entries=25&amp;first_entry=50\">3</a><a accesskey=\"4\" href=\"/monitor?user=iordache.bogdan&amp;display_entries=25&amp;first_entry=75\">4</a>... <a href=\"/monitor?user=iordache.bogdan&amp;display_entries=25&amp;first_entry=4975\">200</a><a href=\"/monitor?user=iordache.bogdan&amp;display_entries=25&amp;first_entry=5000\">201</a><a href=\"/monitor?user=iordache.bogdan&amp;display_entries=25&amp;first_entry=5025\">202</a><span class=\"count\">&nbsp;(5033 rezultate)</span> </div></div> </div>\\n<p>\\n<input type=\"checkbox\" checked=\"checked\" id=\"autorefresh\" onclick=\"Monitor_ToggleRefresh(this.checked)\" />\\n<label for=\"autorefresh\">\\nauto refresh monitor\\n</label>\\n</p>\\n<p>\\n<br />\\n<a href=\"documentatie/monitorul-de-evaluare\">Ce este si cum se foloseste</a> monitorul de evaluare.\\n</p>\\n</div>\\n</div>\\n</div>\\n<div id=\"footer\">\\n<ul class=\"clear\">\\n<li class=\"copyright\">&copy;&nbsp;2004-2023&nbsp;<a href=\"/Asociatia-infoarena\">Asociatia infoarena</a></li>\\n<li class=\"separate\"><a href=\"/\">Prima pagina</a></li>\\n<li><a href=\"/despre-infoarena\">Despre infoarena</a></li>\\n<li><a href=\"/termeni-si-conditii\">Termeni si conditii</a></li>\\n<li><a href=\"/contact\">Contact</a></li>\\n<li class=\"top\"><a href=\"#header\">Sari la inceputul paginii &uarr;</a></li>\\n</ul>\\n<p class=\"cc\">\\n\\n<a class=\"badge\" rel=\"license\" href=\"http://creativecommons.org/licenses/by-nc/2.5/\"><img alt=\"Creative Commons License\" src=\"/static/images/CreativeCommonsBadge.png\" /></a>\\nCu exceptia cazurilor in care se specifica altfel, continutul site-ului infoarena<br />este publicat sub licenta <a rel=\"license\" href=\"http://creativecommons.org/licenses/by-nc/2.5/\">Creative Commons Attribution-NonCommercial 2.5</a>.\\n\\n<rdf:RDF xmlns=\"http://web.resource.org/cc/\" xmlns:dc=\"http://purl.org/dc/elements/1.1/\" xmlns:rdf=\"http://www.w3.org/1999/02/22-rdf-syntax-ns#\" xmlns:rdfs=\"http://www.w3.org/2000/01/rdf-schema#\">\\n<Work rdf:about=\"\">\\n<license rdf:resource=\"http://creativecommons.org/licenses/by-nc/2.5/\" />\\n</Work>\\n<License rdf:about=\"http://creativecommons.org/licenses/by-nc/2.5/\">\\n<permits rdf:resource=\"http://web.resource.org/cc/Reproduction\" />\\n<permits rdf:resource=\"http://web.resource.org/cc/Distribution\" />\\n<requires rdf:resource=\"http://web.resource.org/cc/Notice\" />\\n<requires rdf:resource=\"http://web.resource.org/cc/Attribution\" />\\n<prohibits rdf:resource=\"http://web.resource.org/cc/CommercialUse\" />\\n<permits rdf:resource=\"http://web.resource.org/cc/DerivativeWorks\" />\\n</License>\\n</rdf:RDF>\\n</p>\\n</div>\\n<script src=\"https://www.google-analytics.com/urchin.js\" type=\"text/javascript\">\\n    </script>\\n<script type=\"text/javascript\">\\n    _uacct = \"UA-113289-8\";\\n    _udn = \"infoarena.ro\";\\n    urchinTracker();\\n    </script>\\n</body>\\n</html>\\n'\n"
     ]
    }
   ],
   "source": [
    "for line in str(html).split('\\n'):\n",
    "    print(line)"
   ]
  },
  {
   "cell_type": "markdown",
   "metadata": {
    "id": "6aSHQWnilIOR"
   },
   "source": [
    "Observam ca folosind metoda de mai sus putem descarca intreg continutul HTML al paginii. Pentru a extrage informatii utile trebuie sa parsam acest continut. Vom folosi biblioteca [BeautifulSoup](https://www.crummy.com/software/BeautifulSoup/bs4/doc/):"
   ]
  },
  {
   "cell_type": "code",
   "execution_count": 22,
   "metadata": {
    "id": "a1NrQndSlG4g"
   },
   "outputs": [],
   "source": [
    "import bs4\n",
    "\n",
    "def parse_html(html):\n",
    "    return bs4.BeautifulSoup(html, \"html.parser\")"
   ]
  },
  {
   "cell_type": "markdown",
   "metadata": {
    "id": "DyKYAfF7l3pO"
   },
   "source": [
    "Avand continutul parsat, putem determina acum cate submisii are in total acest utilizator:"
   ]
  },
  {
   "cell_type": "code",
   "execution_count": 23,
   "metadata": {
    "colab": {
     "base_uri": "https://localhost:8080/"
    },
    "executionInfo": {
     "elapsed": 258,
     "status": "ok",
     "timestamp": 1644680792685,
     "user": {
      "displayName": "Bogdan Iordache",
      "photoUrl": "https://lh3.googleusercontent.com/a-/AOh14Gh-PZvTGY_WfhB97fLgLmkcd8CIjhKRDgsFQiip=s64",
      "userId": "11937921055418047811"
     },
     "user_tz": -120
    },
    "id": "UB0sUnx0ltvH",
    "outputId": "e5cd8d9e-0ac0-4f55-d14a-8e0b05ea6e21"
   },
   "outputs": [
    {
     "name": "stdout",
     "output_type": "stream",
     "text": [
      " (5033 rezultate)\n",
      "5033\n"
     ]
    }
   ],
   "source": [
    "import re\n",
    "\n",
    "soup = parse_html(html)\n",
    "\n",
    "# cautam un span care are clasa \"count\", in acest span se afla numarul de submisii\n",
    "submission_count_text = soup.find(\"span\", class_=\"count\").text\n",
    "print(submission_count_text)\n",
    "submission_count = int(re.search(r\"\\d+\", submission_count_text).group())\n",
    "print(submission_count)"
   ]
  },
  {
   "cell_type": "markdown",
   "metadata": {
    "id": "Obu7nG4HnSIJ"
   },
   "source": [
    "Observam ca aceste submisii sunt impartite in mai multe pagini (paginarea rezultatelor). Observam ca link-ul urmator: https://www.infoarena.ro/monitor?user=iordache.bogdan&display_entries=250&first_entry=100 ne returneaza 250 de submisii, incepand cu submisia cu numarul 100. Modificam metoda get_submissions_page astfel:"
   ]
  },
  {
   "cell_type": "code",
   "execution_count": 24,
   "metadata": {
    "id": "xwKHy-zGnQ27"
   },
   "outputs": [],
   "source": [
    "def get_submissions_page(user, display_entries=None, first_entry=None):\n",
    "    req_string = f\"https://www.infoarena.ro/monitor?user={user}\"\n",
    "    if display_entries is not None:\n",
    "        req_string += f\"&display_entries={display_entries}\"\n",
    "    if first_entry is not None:\n",
    "        req_string += f\"&first_entry={first_entry}\"\n",
    "\n",
    "    return requests.get(req_string)"
   ]
  },
  {
   "cell_type": "code",
   "execution_count": 26,
   "metadata": {
    "collapsed": false,
    "pycharm": {
     "name": "#%%\n"
    }
   },
   "outputs": [
    {
     "name": "stdout",
     "output_type": "stream",
     "text": [
      "Collecting tqdm\n",
      "  Using cached tqdm-4.64.1-py2.py3-none-any.whl (78 kB)\n",
      "Requirement already satisfied: colorama in c:\\documente\\facultate_an3\\python-env\\venv\\lib\\site-packages (from tqdm) (0.4.6)\n",
      "Installing collected packages: tqdm\n",
      "Successfully installed tqdm-4.64.1\n"
     ]
    },
    {
     "name": "stderr",
     "output_type": "stream",
     "text": [
      "WARNING: You are using pip version 21.1.2; however, version 23.0.1 is available.\n",
      "You should consider upgrading via the 'C:\\DOCUMENTE\\Facultate_AN3\\python-env\\venv\\Scripts\\python.exe -m pip install --upgrade pip' command.\n"
     ]
    }
   ],
   "source": [
    "! pip install tqdm"
   ]
  },
  {
   "cell_type": "markdown",
   "metadata": {
    "id": "Pv9ylMxPoTh4"
   },
   "source": [
    "Implementam o functie care returneaza informatii despre toate submisiile unui utilizator:"
   ]
  },
  {
   "cell_type": "code",
   "execution_count": 27,
   "metadata": {
    "id": "sLG0u9POonXT"
   },
   "outputs": [],
   "source": [
    "from tqdm import tqdm\n",
    "import pandas as pd\n",
    "import pdb\n",
    "\n",
    "def scrape_submissions(user):\n",
    "    # determinam numarul total de submisii\n",
    "    html = get_submissions_page(user).content\n",
    "    soup = parse_html(html)\n",
    "    submission_count_text = soup.find(\"span\", class_=\"count\").text\n",
    "    submission_count = int(re.search(r\"\\d+\", submission_count_text).group())\n",
    "\n",
    "    # vom salva in acest dictionar datele despre submisiile extrase, structura aceasta\n",
    "    # ne va ajuta ulterior sa construim un tabel (dataframe) folosind pandas\n",
    "    d = {\n",
    "        \"id\": [],\n",
    "        \"problema\": [],\n",
    "        \"url_problema\": [],\n",
    "        \"url_sursa\": [],\n",
    "        \"data\": [],\n",
    "        \"puncte\": [],\n",
    "    }\n",
    "\n",
    "    # accesam pagini cu submisii in grupuri de 250\n",
    "    for first_entry in tqdm(range(0, submission_count, 250)):\n",
    "        html = get_submissions_page(user, display_entries=250, first_entry=first_entry).content\n",
    "        soup = parse_html(html)\n",
    "\n",
    "        # selectam toate liniile de tabel (tr)\n",
    "        lines = soup.select(\"table.monitor tbody tr\")\n",
    "\n",
    "        for line in lines:\n",
    "            # selectam celulele de pe aceasta linie\n",
    "            cells = [cell for cell in line.select(\"td\")]\n",
    "\n",
    "            # extragem link-urile pentru problema si codul sursa\n",
    "            try:\n",
    "                url_problema = cells[2].select_one(\"a\")[\"href\"]\n",
    "                url_sursa = cells[4].select_one(\"a\")[\"href\"]\n",
    "            except Exception:  # daca vreun link nu exista ignoram linia\n",
    "                continue\n",
    "            \n",
    "            d[\"id\"].append(cells[0].text)\n",
    "            d[\"problema\"].append(cells[2].text)\n",
    "            d[\"url_problema\"].append(url_problema)\n",
    "            d[\"url_sursa\"].append(url_sursa)\n",
    "            d[\"data\"].append(cells[5].text)\n",
    "\n",
    "            try:\n",
    "                puncte = int(re.search(r\"\\d+\", cells[6].text).group())\n",
    "            except Exception:\n",
    "                puncte = 0\n",
    "            d[\"puncte\"].append(puncte)\n",
    "\n",
    "    return pd.DataFrame(d)"
   ]
  },
  {
   "cell_type": "code",
   "execution_count": 28,
   "metadata": {
    "colab": {
     "base_uri": "https://localhost:8080/"
    },
    "executionInfo": {
     "elapsed": 47013,
     "status": "ok",
     "timestamp": 1644683262587,
     "user": {
      "displayName": "Bogdan Iordache",
      "photoUrl": "https://lh3.googleusercontent.com/a-/AOh14Gh-PZvTGY_WfhB97fLgLmkcd8CIjhKRDgsFQiip=s64",
      "userId": "11937921055418047811"
     },
     "user_tz": -120
    },
    "id": "W9Pf0rtfrL_w",
    "outputId": "c6bc6bb7-15d2-4220-9192-e6a1a0bb826b"
   },
   "outputs": [
    {
     "name": "stderr",
     "output_type": "stream",
     "text": [
      "100%|██████████| 21/21 [00:27<00:00,  1.29s/it]\n"
     ]
    }
   ],
   "source": [
    "df_submissions = scrape_submissions(\"iordache.bogdan\")"
   ]
  },
  {
   "cell_type": "code",
   "execution_count": 17,
   "metadata": {
    "colab": {
     "base_uri": "https://localhost:8080/",
     "height": 206
    },
    "executionInfo": {
     "elapsed": 267,
     "status": "ok",
     "timestamp": 1644683266483,
     "user": {
      "displayName": "Bogdan Iordache",
      "photoUrl": "https://lh3.googleusercontent.com/a-/AOh14Gh-PZvTGY_WfhB97fLgLmkcd8CIjhKRDgsFQiip=s64",
      "userId": "11937921055418047811"
     },
     "user_tz": -120
    },
    "id": "LwOII21wtFKF",
    "outputId": "4c315a21-7994-46e4-a6a1-19083f4aea61"
   },
   "outputs": [
    {
     "data": {
      "text/html": [
       "<div>\n",
       "<style scoped>\n",
       "    .dataframe tbody tr th:only-of-type {\n",
       "        vertical-align: middle;\n",
       "    }\n",
       "\n",
       "    .dataframe tbody tr th {\n",
       "        vertical-align: top;\n",
       "    }\n",
       "\n",
       "    .dataframe thead th {\n",
       "        text-align: right;\n",
       "    }\n",
       "</style>\n",
       "<table border=\"1\" class=\"dataframe\">\n",
       "  <thead>\n",
       "    <tr style=\"text-align: right;\">\n",
       "      <th></th>\n",
       "      <th>id</th>\n",
       "      <th>problema</th>\n",
       "      <th>url_problema</th>\n",
       "      <th>url_sursa</th>\n",
       "      <th>data</th>\n",
       "      <th>puncte</th>\n",
       "    </tr>\n",
       "  </thead>\n",
       "  <tbody>\n",
       "    <tr>\n",
       "      <th>0</th>\n",
       "      <td>#2836860</td>\n",
       "      <td>Luff</td>\n",
       "      <td>/problema/luff</td>\n",
       "      <td>/job_detail/2836860?action=view-source</td>\n",
       "      <td>21 ian 22 00:50:03</td>\n",
       "      <td>100</td>\n",
       "    </tr>\n",
       "    <tr>\n",
       "      <th>1</th>\n",
       "      <td>#2836859</td>\n",
       "      <td>Luff</td>\n",
       "      <td>/problema/luff</td>\n",
       "      <td>/job_detail/2836859?action=view-source</td>\n",
       "      <td>21 ian 22 00:49:40</td>\n",
       "      <td>0</td>\n",
       "    </tr>\n",
       "    <tr>\n",
       "      <th>2</th>\n",
       "      <td>#2836858</td>\n",
       "      <td>Luff</td>\n",
       "      <td>/problema/luff</td>\n",
       "      <td>/job_detail/2836858?action=view-source</td>\n",
       "      <td>21 ian 22 00:41:56</td>\n",
       "      <td>70</td>\n",
       "    </tr>\n",
       "    <tr>\n",
       "      <th>3</th>\n",
       "      <td>#2836856</td>\n",
       "      <td>Luff</td>\n",
       "      <td>/problema/luff</td>\n",
       "      <td>/job_detail/2836856?action=view-source</td>\n",
       "      <td>21 ian 22 00:36:59</td>\n",
       "      <td>70</td>\n",
       "    </tr>\n",
       "    <tr>\n",
       "      <th>4</th>\n",
       "      <td>#2836855</td>\n",
       "      <td>Luff</td>\n",
       "      <td>/problema/luff</td>\n",
       "      <td>/job_detail/2836855?action=view-source</td>\n",
       "      <td>21 ian 22 00:36:26</td>\n",
       "      <td>70</td>\n",
       "    </tr>\n",
       "  </tbody>\n",
       "</table>\n",
       "</div>"
      ],
      "text/plain": [
       "         id problema    url_problema                               url_sursa  \\\n",
       "0  #2836860     Luff  /problema/luff  /job_detail/2836860?action=view-source   \n",
       "1  #2836859     Luff  /problema/luff  /job_detail/2836859?action=view-source   \n",
       "2  #2836858     Luff  /problema/luff  /job_detail/2836858?action=view-source   \n",
       "3  #2836856     Luff  /problema/luff  /job_detail/2836856?action=view-source   \n",
       "4  #2836855     Luff  /problema/luff  /job_detail/2836855?action=view-source   \n",
       "\n",
       "                 data  puncte  \n",
       "0  21 ian 22 00:50:03     100  \n",
       "1  21 ian 22 00:49:40       0  \n",
       "2  21 ian 22 00:41:56      70  \n",
       "3  21 ian 22 00:36:59      70  \n",
       "4  21 ian 22 00:36:26      70  "
      ]
     },
     "execution_count": 17,
     "metadata": {},
     "output_type": "execute_result"
    }
   ],
   "source": [
    "df_submissions.head()"
   ]
  },
  {
   "cell_type": "code",
   "execution_count": 19,
   "metadata": {
    "id": "bSUVqGCBwycM"
   },
   "outputs": [],
   "source": [
    "df_submissions.to_csv(\"submissions.csv\", index=False)"
   ]
  },
  {
   "cell_type": "markdown",
   "metadata": {
    "id": "0JDLdzlAijhV"
   },
   "source": [
    "Exemplu scriere/citire fisier JSON:"
   ]
  },
  {
   "cell_type": "code",
   "execution_count": 20,
   "metadata": {
    "id": "SkKsP_UPiofJ"
   },
   "outputs": [],
   "source": [
    "import json\n",
    "\n",
    "vec = [\n",
    "    {\"title\": \"example_1\", \"size\": 7},\n",
    "    {\"title\": \"example_2\", \"size\": 3},\n",
    "    {\"title\": \"example_3\", \"size\": 8},\n",
    "]\n",
    "\n",
    "with open(\"example.json\", \"w\") as f:\n",
    "    json.dump(vec, f, indent=4)"
   ]
  },
  {
   "cell_type": "code",
   "execution_count": 21,
   "metadata": {
    "colab": {
     "base_uri": "https://localhost:8080/"
    },
    "executionInfo": {
     "elapsed": 4,
     "status": "ok",
     "timestamp": 1644679711408,
     "user": {
      "displayName": "Bogdan Iordache",
      "photoUrl": "https://lh3.googleusercontent.com/a-/AOh14Gh-PZvTGY_WfhB97fLgLmkcd8CIjhKRDgsFQiip=s64",
      "userId": "11937921055418047811"
     },
     "user_tz": -120
    },
    "id": "8qpLd3OujHvP",
    "outputId": "9661a6b7-8b83-44db-c1a3-18f126be8337"
   },
   "outputs": [
    {
     "name": "stdout",
     "output_type": "stream",
     "text": [
      "[{'title': 'example_1', 'size': 7}, {'title': 'example_2', 'size': 3}, {'title': 'example_3', 'size': 8}]\n"
     ]
    }
   ],
   "source": [
    "with open(\"example.json\", \"r\") as f:\n",
    "    vec = json.load(f)\n",
    "print(vec)"
   ]
  },
  {
   "cell_type": "markdown",
   "metadata": {
    "id": "L57SsXOnfd__"
   },
   "source": [
    "Un alt mod de a face scraping este sa folosim biblioteca pandas pentru a ne extrage tabele html, transformandu-le in DataFrame-uri, pe care le putem manipula foarte usor. Un exemplu util este extragerea sarbatorile legale romanesti, in anul 2022, de pe https://www.timeanddate.com/."
   ]
  },
  {
   "cell_type": "code",
   "execution_count": null,
   "metadata": {},
   "outputs": [],
   "source": [
    "! pip install lxml"
   ]
  },
  {
   "cell_type": "code",
   "execution_count": 23,
   "metadata": {
    "colab": {
     "base_uri": "https://localhost:8080/",
     "height": 206
    },
    "executionInfo": {
     "elapsed": 486,
     "status": "ok",
     "timestamp": 1644679255096,
     "user": {
      "displayName": "Bogdan Iordache",
      "photoUrl": "https://lh3.googleusercontent.com/a-/AOh14Gh-PZvTGY_WfhB97fLgLmkcd8CIjhKRDgsFQiip=s64",
      "userId": "11937921055418047811"
     },
     "user_tz": -120
    },
    "id": "4KiZSYVGg1jP",
    "outputId": "b8c1093b-3c08-4272-c9f3-f84d0e15ac55"
   },
   "outputs": [
    {
     "data": {
      "text/html": [
       "<div>\n",
       "<style scoped>\n",
       "    .dataframe tbody tr th:only-of-type {\n",
       "        vertical-align: middle;\n",
       "    }\n",
       "\n",
       "    .dataframe tbody tr th {\n",
       "        vertical-align: top;\n",
       "    }\n",
       "\n",
       "    .dataframe thead th {\n",
       "        text-align: right;\n",
       "    }\n",
       "</style>\n",
       "<table border=\"1\" class=\"dataframe\">\n",
       "  <thead>\n",
       "    <tr style=\"text-align: right;\">\n",
       "      <th></th>\n",
       "      <th>Date</th>\n",
       "      <th>Day</th>\n",
       "      <th>Name</th>\n",
       "      <th>Type</th>\n",
       "    </tr>\n",
       "  </thead>\n",
       "  <tbody>\n",
       "    <tr>\n",
       "      <th>0</th>\n",
       "      <td>1 ian</td>\n",
       "      <td>sâmbătă</td>\n",
       "      <td>New Year's Day</td>\n",
       "      <td>National holiday</td>\n",
       "    </tr>\n",
       "    <tr>\n",
       "      <th>1</th>\n",
       "      <td>2 ian</td>\n",
       "      <td>duminică</td>\n",
       "      <td>Day after New Year's Day</td>\n",
       "      <td>National holiday</td>\n",
       "    </tr>\n",
       "    <tr>\n",
       "      <th>2</th>\n",
       "      <td>24 ian</td>\n",
       "      <td>luni</td>\n",
       "      <td>Unification Day</td>\n",
       "      <td>National holiday</td>\n",
       "    </tr>\n",
       "    <tr>\n",
       "      <th>3</th>\n",
       "      <td>19 feb</td>\n",
       "      <td>sâmbătă</td>\n",
       "      <td>Constantin Brancusi Day</td>\n",
       "      <td>Observance</td>\n",
       "    </tr>\n",
       "    <tr>\n",
       "      <th>4</th>\n",
       "      <td>24 feb</td>\n",
       "      <td>joi</td>\n",
       "      <td>Dragobete</td>\n",
       "      <td>Observance</td>\n",
       "    </tr>\n",
       "  </tbody>\n",
       "</table>\n",
       "</div>"
      ],
      "text/plain": [
       "     Date       Day                      Name              Type\n",
       "0   1 ian   sâmbătă            New Year's Day  National holiday\n",
       "1   2 ian  duminică  Day after New Year's Day  National holiday\n",
       "2  24 ian      luni           Unification Day  National holiday\n",
       "3  19 feb   sâmbătă   Constantin Brancusi Day        Observance\n",
       "4  24 feb       joi                 Dragobete        Observance"
      ]
     },
     "execution_count": 23,
     "metadata": {},
     "output_type": "execute_result"
    }
   ],
   "source": [
    "import pandas as pd\n",
    "\n",
    "tables_df = pd.read_html('https://www.timeanddate.com/holidays/romania/2022?hol=1')\n",
    "df = tables_df[0]\n",
    "\n",
    "# Il putem curata prin a sterge liniile nule si modifica coloanele de la tuplul \"(Date, Date)\" -> \"Date\"\n",
    "df = df.dropna(axis='index')\n",
    "df.columns = ['Date', 'Day', 'Name', 'Type']\n",
    "\n",
    "# Reindexam tabelul\n",
    "df = df.reset_index(drop=\"True\")\n",
    "\n",
    "# Afisam primele 5 randuri\n",
    "df.head()"
   ]
  },
  {
   "cell_type": "code",
   "execution_count": 25,
   "metadata": {
    "colab": {
     "base_uri": "https://localhost:8080/",
     "height": 238
    },
    "executionInfo": {
     "elapsed": 251,
     "status": "ok",
     "timestamp": 1644679369336,
     "user": {
      "displayName": "Bogdan Iordache",
      "photoUrl": "https://lh3.googleusercontent.com/a-/AOh14Gh-PZvTGY_WfhB97fLgLmkcd8CIjhKRDgsFQiip=s64",
      "userId": "11937921055418047811"
     },
     "user_tz": -120
    },
    "id": "4s6tVtnIfF1_",
    "outputId": "b6533bfb-860f-4340-cbe1-554159b629da"
   },
   "outputs": [
    {
     "data": {
      "text/html": [
       "<div>\n",
       "<style scoped>\n",
       "    .dataframe tbody tr th:only-of-type {\n",
       "        vertical-align: middle;\n",
       "    }\n",
       "\n",
       "    .dataframe tbody tr th {\n",
       "        vertical-align: top;\n",
       "    }\n",
       "\n",
       "    .dataframe thead th {\n",
       "        text-align: right;\n",
       "    }\n",
       "</style>\n",
       "<table border=\"1\" class=\"dataframe\">\n",
       "  <thead>\n",
       "    <tr style=\"text-align: right;\">\n",
       "      <th></th>\n",
       "      <th>Date</th>\n",
       "      <th>Day</th>\n",
       "      <th>Name</th>\n",
       "      <th>Type</th>\n",
       "    </tr>\n",
       "  </thead>\n",
       "  <tbody>\n",
       "    <tr>\n",
       "      <th>2</th>\n",
       "      <td>24 ian</td>\n",
       "      <td>luni</td>\n",
       "      <td>Unification Day</td>\n",
       "      <td>National holiday</td>\n",
       "    </tr>\n",
       "    <tr>\n",
       "      <th>10</th>\n",
       "      <td>25 apr</td>\n",
       "      <td>luni</td>\n",
       "      <td>Orthodox Easter Monday</td>\n",
       "      <td>National holiday, Orthodox</td>\n",
       "    </tr>\n",
       "    <tr>\n",
       "      <th>19</th>\n",
       "      <td>13 iun</td>\n",
       "      <td>luni</td>\n",
       "      <td>Orthodox Pentecost Monday</td>\n",
       "      <td>National holiday, Orthodox</td>\n",
       "    </tr>\n",
       "    <tr>\n",
       "      <th>23</th>\n",
       "      <td>15 aug</td>\n",
       "      <td>luni</td>\n",
       "      <td>St Mary's Day</td>\n",
       "      <td>National holiday</td>\n",
       "    </tr>\n",
       "    <tr>\n",
       "      <th>25</th>\n",
       "      <td>31 oct</td>\n",
       "      <td>luni</td>\n",
       "      <td>Halloween</td>\n",
       "      <td>Observance</td>\n",
       "    </tr>\n",
       "    <tr>\n",
       "      <th>33</th>\n",
       "      <td>26 dec</td>\n",
       "      <td>luni</td>\n",
       "      <td>Second day of Christmas</td>\n",
       "      <td>National holiday</td>\n",
       "    </tr>\n",
       "  </tbody>\n",
       "</table>\n",
       "</div>"
      ],
      "text/plain": [
       "      Date   Day                       Name                        Type\n",
       "2   24 ian  luni            Unification Day            National holiday\n",
       "10  25 apr  luni     Orthodox Easter Monday  National holiday, Orthodox\n",
       "19  13 iun  luni  Orthodox Pentecost Monday  National holiday, Orthodox\n",
       "23  15 aug  luni              St Mary's Day            National holiday\n",
       "25  31 oct  luni                  Halloween                  Observance\n",
       "33  26 dec  luni    Second day of Christmas            National holiday"
      ]
     },
     "execution_count": 25,
     "metadata": {},
     "output_type": "execute_result"
    }
   ],
   "source": [
    "# Daca vrem se vedem sarbatorile care pica in ziua de luni\n",
    "df_luni = df.loc[df[\"Day\"] == \"luni\"]\n",
    "df_luni"
   ]
  },
  {
   "cell_type": "code",
   "execution_count": 26,
   "metadata": {
    "colab": {
     "base_uri": "https://localhost:8080/",
     "height": 175
    },
    "executionInfo": {
     "elapsed": 244,
     "status": "ok",
     "timestamp": 1644679392984,
     "user": {
      "displayName": "Bogdan Iordache",
      "photoUrl": "https://lh3.googleusercontent.com/a-/AOh14Gh-PZvTGY_WfhB97fLgLmkcd8CIjhKRDgsFQiip=s64",
      "userId": "11937921055418047811"
     },
     "user_tz": -120
    },
    "id": "zeX7VEyXh57m",
    "outputId": "f15cdbdc-26f9-412b-f09b-eb3d516397f1"
   },
   "outputs": [
    {
     "data": {
      "text/html": [
       "<div>\n",
       "<style scoped>\n",
       "    .dataframe tbody tr th:only-of-type {\n",
       "        vertical-align: middle;\n",
       "    }\n",
       "\n",
       "    .dataframe tbody tr th {\n",
       "        vertical-align: top;\n",
       "    }\n",
       "\n",
       "    .dataframe thead th {\n",
       "        text-align: right;\n",
       "    }\n",
       "</style>\n",
       "<table border=\"1\" class=\"dataframe\">\n",
       "  <thead>\n",
       "    <tr style=\"text-align: right;\">\n",
       "      <th></th>\n",
       "      <th>Date</th>\n",
       "      <th>Day</th>\n",
       "      <th>Name</th>\n",
       "      <th>Type</th>\n",
       "    </tr>\n",
       "  </thead>\n",
       "  <tbody>\n",
       "    <tr>\n",
       "      <th>count</th>\n",
       "      <td>6</td>\n",
       "      <td>6</td>\n",
       "      <td>6</td>\n",
       "      <td>6</td>\n",
       "    </tr>\n",
       "    <tr>\n",
       "      <th>unique</th>\n",
       "      <td>6</td>\n",
       "      <td>1</td>\n",
       "      <td>6</td>\n",
       "      <td>3</td>\n",
       "    </tr>\n",
       "    <tr>\n",
       "      <th>top</th>\n",
       "      <td>24 ian</td>\n",
       "      <td>luni</td>\n",
       "      <td>Unification Day</td>\n",
       "      <td>National holiday</td>\n",
       "    </tr>\n",
       "    <tr>\n",
       "      <th>freq</th>\n",
       "      <td>1</td>\n",
       "      <td>6</td>\n",
       "      <td>1</td>\n",
       "      <td>3</td>\n",
       "    </tr>\n",
       "  </tbody>\n",
       "</table>\n",
       "</div>"
      ],
      "text/plain": [
       "          Date   Day             Name              Type\n",
       "count        6     6                6                 6\n",
       "unique       6     1                6                 3\n",
       "top     24 ian  luni  Unification Day  National holiday\n",
       "freq         1     6                1                 3"
      ]
     },
     "execution_count": 26,
     "metadata": {},
     "output_type": "execute_result"
    }
   ],
   "source": [
    "df_luni.describe()"
   ]
  },
  {
   "cell_type": "markdown",
   "metadata": {
    "id": "xmrzEs27iHYw"
   },
   "source": [
    "Putem salva rezultatul (la fel ca orice dictionar de python) intr-un json, ca alternativa la DataFrame - si poate fi util intr-o aplicatie pentru comunicarea cu front-end-ul"
   ]
  },
  {
   "cell_type": "code",
   "execution_count": 27,
   "metadata": {
    "id": "cRwND0SBh_Ca"
   },
   "outputs": [],
   "source": [
    "import json\n",
    "json_str = df.to_json(orient='records')\n",
    "json_result = json.loads(json_str)\n",
    "\n",
    "with open('holidays.json', 'w', encoding='utf8') as fout:\n",
    "    json.dump(json_result, fout, indent=4, sort_keys=True, ensure_ascii=False)"
   ]
  },
  {
   "cell_type": "markdown",
   "metadata": {
    "id": "v4uecs3b3MXZ"
   },
   "source": [
    "Alte biblioteci utile pentru scraping:\n",
    " * [scrapy](https://scrapy.org/) (folosit in special pentru web crawling)\n",
    " * [selenium](https://selenium-python.readthedocs.io/) (folosit pentru a simula activitatea din browser, utilizat in special in scrierea de teste pentru aplicatii front-end)"
   ]
  },
  {
   "cell_type": "markdown",
   "metadata": {
    "id": "sFNRIfgF1cRD"
   },
   "source": [
    "## TASK: IMDb scraping (deadline: 3 martie ora 23:59)"
   ]
  },
  {
   "cell_type": "markdown",
   "metadata": {
    "id": "6G-0iTm14GIy"
   },
   "source": [
    "1. Pornind de la lista cu cele mai populare 250 de filme de pe IMDb ([https://www.imdb.com/chart/top/](https://www.imdb.com/chart/top/)), identificati pentru toate aceste filme link-ul catre pagina sa de recenzii.\n",
    "\n",
    "Exemplu: aici se gaseste pagina cu recenzii pentru \"The Shawshank Redemption\": [https://www.imdb.com/title/tt0111161/reviews](https://www.imdb.com/title/tt0111161/reviews)"
   ]
  },
  {
   "cell_type": "code",
   "execution_count": 3,
   "metadata": {},
   "outputs": [
    {
     "name": "stdout",
     "output_type": "stream",
     "text": [
      "Collecting beautifulsoup4\n",
      "  Downloading beautifulsoup4-4.11.2-py3-none-any.whl (129 kB)\n",
      "     ---------------------------------------- 0.0/129.4 kB ? eta -:--:--\n",
      "     -------------------- ---------------- 71.7/129.4 kB 991.0 kB/s eta 0:00:01\n",
      "     -------------------------------------- 129.4/129.4 kB 1.5 MB/s eta 0:00:00\n",
      "Collecting soupsieve>1.2\n",
      "  Downloading soupsieve-2.4-py3-none-any.whl (37 kB)\n",
      "Installing collected packages: soupsieve, beautifulsoup4\n",
      "Successfully installed beautifulsoup4-4.11.2 soupsieve-2.4\n"
     ]
    },
    {
     "name": "stderr",
     "output_type": "stream",
     "text": [
      "\n",
      "[notice] A new release of pip is available: 23.0 -> 23.0.1\n",
      "[notice] To update, run: python.exe -m pip install --upgrade pip\n"
     ]
    }
   ],
   "source": [
    "! pip install beautifulsoup4"
   ]
  },
  {
   "cell_type": "code",
   "execution_count": 4,
   "metadata": {
    "id": "Wlm1QSJR5Ie9"
   },
   "outputs": [
    {
     "name": "stdout",
     "output_type": "stream",
     "text": [
      "Loaded movie: Închisoarea îngerilor. Id: tt0111161. Reviews link: https://www.imdb.com/title/tt0111161/reviews\n",
      "Loaded movie: Nașul. Id: tt0068646. Reviews link: https://www.imdb.com/title/tt0068646/reviews\n",
      "Loaded movie: Cavalerul negru. Id: tt0468569. Reviews link: https://www.imdb.com/title/tt0468569/reviews\n",
      "Loaded movie: Nașul: Partea a II-a. Id: tt0071562. Reviews link: https://www.imdb.com/title/tt0071562/reviews\n",
      "Loaded movie: 12 Oameni mânioşi. Id: tt0050083. Reviews link: https://www.imdb.com/title/tt0050083/reviews\n",
      "Loaded movie: Lista lui Schindler. Id: tt0108052. Reviews link: https://www.imdb.com/title/tt0108052/reviews\n",
      "Loaded movie: Stăpânul inelelor: Întoarcerea regelui. Id: tt0167260. Reviews link: https://www.imdb.com/title/tt0167260/reviews\n",
      "Loaded movie: Pulp Fiction. Id: tt0110912. Reviews link: https://www.imdb.com/title/tt0110912/reviews\n",
      "Loaded movie: Stăpânul inelelor: Frăția inelului. Id: tt0120737. Reviews link: https://www.imdb.com/title/tt0120737/reviews\n",
      "Loaded movie: Cel bun, cel rău, cel urât. Id: tt0060196. Reviews link: https://www.imdb.com/title/tt0060196/reviews\n",
      "Loaded movie: Forrest Gump. Id: tt0109830. Reviews link: https://www.imdb.com/title/tt0109830/reviews\n",
      "Loaded movie: Fight Club - Sala de lupte. Id: tt0137523. Reviews link: https://www.imdb.com/title/tt0137523/reviews\n",
      "Loaded movie: Stăpânul inelelor: Cele două turnuri. Id: tt0167261. Reviews link: https://www.imdb.com/title/tt0167261/reviews\n",
      "Loaded movie: Începutul. Id: tt1375666. Reviews link: https://www.imdb.com/title/tt1375666/reviews\n",
      "Loaded movie: Războiul stelelor - Episodul V: Imperiul contraatacă. Id: tt0080684. Reviews link: https://www.imdb.com/title/tt0080684/reviews\n",
      "Loaded movie: Matrix. Id: tt0133093. Reviews link: https://www.imdb.com/title/tt0133093/reviews\n",
      "Loaded movie: Băieți buni. Id: tt0099685. Reviews link: https://www.imdb.com/title/tt0099685/reviews\n",
      "Loaded movie: Zbor deasupra unui cuib de cuci. Id: tt0073486. Reviews link: https://www.imdb.com/title/tt0073486/reviews\n",
      "Loaded movie: Se7en. Id: tt0114369. Reviews link: https://www.imdb.com/title/tt0114369/reviews\n",
      "Loaded movie: Cei șapte samurai. Id: tt0047478. Reviews link: https://www.imdb.com/title/tt0047478/reviews\n",
      "Loaded movie: O viață minunată. Id: tt0038650. Reviews link: https://www.imdb.com/title/tt0038650/reviews\n",
      "Loaded movie: Tăcerea mieilor. Id: tt0102926. Reviews link: https://www.imdb.com/title/tt0102926/reviews\n",
      "Loaded movie: Orașul zeilor. Id: tt0317248. Reviews link: https://www.imdb.com/title/tt0317248/reviews\n",
      "Loaded movie: Salvați soldatul Ryan. Id: tt0120815. Reviews link: https://www.imdb.com/title/tt0120815/reviews\n",
      "Loaded movie: Interstellar: Călătorind prin univers. Id: tt0816692. Reviews link: https://www.imdb.com/title/tt0816692/reviews\n",
      "Loaded movie: Viața e frumoasă. Id: tt0118799. Reviews link: https://www.imdb.com/title/tt0118799/reviews\n",
      "Loaded movie: Culoarul morții. Id: tt0120689. Reviews link: https://www.imdb.com/title/tt0120689/reviews\n",
      "Loaded movie: Războiul stelelor - Episodul IV: O nouă speranță. Id: tt0076759. Reviews link: https://www.imdb.com/title/tt0076759/reviews\n",
      "Loaded movie: Terminatorul 2: Ziua judecății. Id: tt0103064. Reviews link: https://www.imdb.com/title/tt0103064/reviews\n",
      "Loaded movie: Înapoi în viitor. Id: tt0088763. Reviews link: https://www.imdb.com/title/tt0088763/reviews\n",
      "Loaded movie: Călătoria lui Chihiro. Id: tt0245429. Reviews link: https://www.imdb.com/title/tt0245429/reviews\n",
      "Loaded movie: Pianistul. Id: tt0253474. Reviews link: https://www.imdb.com/title/tt0253474/reviews\n",
      "Loaded movie: Psycho. Id: tt0054215. Reviews link: https://www.imdb.com/title/tt0054215/reviews\n",
      "Loaded movie: Parazit. Id: tt6751668. Reviews link: https://www.imdb.com/title/tt6751668/reviews\n",
      "Loaded movie: Leon. Id: tt0110413. Reviews link: https://www.imdb.com/title/tt0110413/reviews\n",
      "Loaded movie: The Lion King. Id: tt0110357. Reviews link: https://www.imdb.com/title/tt0110357/reviews\n",
      "Loaded movie: Gladiatorul. Id: tt0172495. Reviews link: https://www.imdb.com/title/tt0172495/reviews\n",
      "Loaded movie: Povestea X a Americii. Id: tt0120586. Reviews link: https://www.imdb.com/title/tt0120586/reviews\n",
      "Loaded movie: Cârtița. Id: tt0407887. Reviews link: https://www.imdb.com/title/tt0407887/reviews\n",
      "Loaded movie: Suspecți de serviciu. Id: tt0114814. Reviews link: https://www.imdb.com/title/tt0114814/reviews\n",
      "Loaded movie: Prestigiul. Id: tt0482571. Reviews link: https://www.imdb.com/title/tt0482571/reviews\n",
      "Loaded movie: Whiplash. Id: tt2582802. Reviews link: https://www.imdb.com/title/tt2582802/reviews\n",
      "Loaded movie: Casablanca. Id: tt0034583. Reviews link: https://www.imdb.com/title/tt0034583/reviews\n",
      "Loaded movie: Harakiri. Id: tt0056058. Reviews link: https://www.imdb.com/title/tt0056058/reviews\n",
      "Loaded movie: Cimitirul licuricilor. Id: tt0095327. Reviews link: https://www.imdb.com/title/tt0095327/reviews\n",
      "Loaded movie: Invincibilii. Id: tt1675434. Reviews link: https://www.imdb.com/title/tt1675434/reviews\n",
      "Loaded movie: Timpuri noi. Id: tt0027977. Reviews link: https://www.imdb.com/title/tt0027977/reviews\n",
      "Loaded movie: Undeva, cândva în Vest. Id: tt0064116. Reviews link: https://www.imdb.com/title/tt0064116/reviews\n",
      "Loaded movie: În spatele ferestrei. Id: tt0047396. Reviews link: https://www.imdb.com/title/tt0047396/reviews\n",
      "Loaded movie: Cinema Paradiso. Id: tt0095765. Reviews link: https://www.imdb.com/title/tt0095765/reviews\n",
      "Loaded movie: Alien. Id: tt0078748. Reviews link: https://www.imdb.com/title/tt0078748/reviews\n",
      "Loaded movie: Luminile orașului. Id: tt0021749. Reviews link: https://www.imdb.com/title/tt0021749/reviews\n",
      "Loaded movie: Apocalipsul acum. Id: tt0078788. Reviews link: https://www.imdb.com/title/tt0078788/reviews\n",
      "Loaded movie: Memento. Id: tt0209144. Reviews link: https://www.imdb.com/title/tt0209144/reviews\n",
      "Loaded movie: Django dezlănțuit. Id: tt1853728. Reviews link: https://www.imdb.com/title/tt1853728/reviews\n",
      "Loaded movie: Indiana Jones și căutătorii arcei pierdute. Id: tt0082971. Reviews link: https://www.imdb.com/title/tt0082971/reviews\n",
      "Loaded movie: WALL-E. Id: tt0910970. Reviews link: https://www.imdb.com/title/tt0910970/reviews\n",
      "Loaded movie: Viețile altora. Id: tt0405094. Reviews link: https://www.imdb.com/title/tt0405094/reviews\n",
      "Loaded movie: Bulevardul amurgului. Id: tt0043014. Reviews link: https://www.imdb.com/title/tt0043014/reviews\n",
      "Loaded movie: Cărările gloriei. Id: tt0050825. Reviews link: https://www.imdb.com/title/tt0050825/reviews\n",
      "Loaded movie: Strălucirea. Id: tt0081505. Reviews link: https://www.imdb.com/title/tt0081505/reviews\n",
      "Loaded movie: Dictatorul. Id: tt0032553. Reviews link: https://www.imdb.com/title/tt0032553/reviews\n",
      "Loaded movie: Răzbunătorii: Războiul infinitului. Id: tt4154756. Reviews link: https://www.imdb.com/title/tt4154756/reviews\n",
      "Loaded movie: Martorul acuzării. Id: tt0051201. Reviews link: https://www.imdb.com/title/tt0051201/reviews\n",
      "Loaded movie: Alien 2 - Misiune de pedeapsă. Id: tt0090605. Reviews link: https://www.imdb.com/title/tt0090605/reviews\n",
      "Loaded movie: Omul-Păianjen: În lumea păianjenului. Id: tt4633694. Reviews link: https://www.imdb.com/title/tt4633694/reviews\n",
      "Loaded movie: Frumusețe americană. Id: tt0169547. Reviews link: https://www.imdb.com/title/tt0169547/reviews\n",
      "Loaded movie: Dr. Strangelove sau cum am învățat să nu mă mai tem și să iubesc bomba. Id: tt0057012. Reviews link: https://www.imdb.com/title/tt0057012/reviews\n",
      "Loaded movie: Cavalerul negru: Legenda renaște. Id: tt1345836. Reviews link: https://www.imdb.com/title/tt1345836/reviews\n",
      "Loaded movie: Căinţă şi răzbunare. Id: tt0364569. Reviews link: https://www.imdb.com/title/tt0364569/reviews\n",
      "Loaded movie: Ticăloși fără glorie. Id: tt0361748. Reviews link: https://www.imdb.com/title/tt0361748/reviews\n",
      "Loaded movie: Amadeus. Id: tt0086879. Reviews link: https://www.imdb.com/title/tt0086879/reviews\n",
      "Loaded movie: Coco. Id: tt2380307. Reviews link: https://www.imdb.com/title/tt2380307/reviews\n",
      "Loaded movie: Povestea jucăriilor. Id: tt0114709. Reviews link: https://www.imdb.com/title/tt0114709/reviews\n",
      "Loaded movie: Joker. Id: tt7286456. Reviews link: https://www.imdb.com/title/tt7286456/reviews\n",
      "Loaded movie: Inimă neînfricată. Id: tt0112573. Reviews link: https://www.imdb.com/title/tt0112573/reviews\n",
      "Loaded movie: Submarinul. Id: tt0082096. Reviews link: https://www.imdb.com/title/tt0082096/reviews\n",
      "Loaded movie: Răzbunătorii: Sfârșitul jocului. Id: tt4154796. Reviews link: https://www.imdb.com/title/tt4154796/reviews\n",
      "Loaded movie: Prințesa Mononoke. Id: tt0119698. Reviews link: https://www.imdb.com/title/tt0119698/reviews\n",
      "Loaded movie: A fost odată în America. Id: tt0087843. Reviews link: https://www.imdb.com/title/tt0087843/reviews\n",
      "Loaded movie: Bunul Will Hunting. Id: tt0119217. Reviews link: https://www.imdb.com/title/tt0119217/reviews\n",
      "Loaded movie: Numele tău. Id: tt5311514. Reviews link: https://www.imdb.com/title/tt5311514/reviews\n",
      "Loaded movie: 3 idioți. Id: tt1187043. Reviews link: https://www.imdb.com/title/tt1187043/reviews\n",
      "Loaded movie: Cântând în ploaie. Id: tt0045152. Reviews link: https://www.imdb.com/title/tt0045152/reviews\n",
      "Loaded movie: Requiem pentru un vis. Id: tt0180093. Reviews link: https://www.imdb.com/title/tt0180093/reviews\n",
      "Loaded movie: Cerul și iadul. Id: tt0057565. Reviews link: https://www.imdb.com/title/tt0057565/reviews\n",
      "Loaded movie: Povestea jucăriilor 3. Id: tt0435761. Reviews link: https://www.imdb.com/title/tt0435761/reviews\n",
      "Loaded movie: Capernaum - Haos și speranță. Id: tt8267604. Reviews link: https://www.imdb.com/title/tt8267604/reviews\n",
      "Loaded movie: Războiul stelelor - Episodul VI: Întoarcerea lui Jedi. Id: tt0086190. Reviews link: https://www.imdb.com/title/tt0086190/reviews\n",
      "Loaded movie: Strălucirea eternă a minții neprihănite. Id: tt0338013. Reviews link: https://www.imdb.com/title/tt0338013/reviews\n",
      "Loaded movie: Odiseea spațială 2001. Id: tt0062622. Reviews link: https://www.imdb.com/title/tt0062622/reviews\n",
      "Loaded movie: Profesioniștii crimei. Id: tt0105236. Reviews link: https://www.imdb.com/title/tt0105236/reviews\n",
      "Loaded movie: Vino si vezi. Id: tt0091251. Reviews link: https://www.imdb.com/title/tt0091251/reviews\n",
      "Loaded movie: Vânătoarea. Id: tt2106476. Reviews link: https://www.imdb.com/title/tt2106476/reviews\n",
      "Loaded movie: Cetățeanul Kane. Id: tt0033467. Reviews link: https://www.imdb.com/title/tt0033467/reviews\n",
      "Loaded movie: M - Un oraș își caută ucigașul. Id: tt0022100. Reviews link: https://www.imdb.com/title/tt0022100/reviews\n",
      "Loaded movie: Lawrence din Arabia. Id: tt0056172. Reviews link: https://www.imdb.com/title/tt0056172/reviews\n",
      "Loaded movie: La nord, prin nord-vest. Id: tt0053125. Reviews link: https://www.imdb.com/title/tt0053125/reviews\n",
      "Loaded movie: Amețeala. Id: tt0052357. Reviews link: https://www.imdb.com/title/tt0052357/reviews\n",
      "Loaded movie: A trăi. Id: tt0044741. Reviews link: https://www.imdb.com/title/tt0044741/reviews\n",
      "Loaded movie: Apartamentul. Id: tt0053604. Reviews link: https://www.imdb.com/title/tt0053604/reviews\n",
      "Loaded movie: Amélie. Id: tt0211915. Reviews link: https://www.imdb.com/title/tt0211915/reviews\n",
      "Loaded movie: Portocala mecanică. Id: tt0066921. Reviews link: https://www.imdb.com/title/tt0066921/reviews\n",
      "Loaded movie: Asigurare de moarte. Id: tt0036775. Reviews link: https://www.imdb.com/title/tt0036775/reviews\n",
      "Loaded movie: Glonţ cu cămaşă metalică. Id: tt0093058. Reviews link: https://www.imdb.com/title/tt0093058/reviews\n",
      "Loaded movie: Scarface. Id: tt0086250. Reviews link: https://www.imdb.com/title/tt0086250/reviews\n",
      "Loaded movie: Hamilton. Id: tt8503618. Reviews link: https://www.imdb.com/title/tt8503618/reviews\n",
      "Loaded movie: Top Gun: Maverick. Id: tt1745960. Reviews link: https://www.imdb.com/title/tt1745960/reviews\n",
      "Loaded movie: Incendii. Id: tt1255953. Reviews link: https://www.imdb.com/title/tt1255953/reviews\n",
      "Loaded movie: Să ucizi o pasăre cântătoare. Id: tt0056592. Reviews link: https://www.imdb.com/title/tt0056592/reviews\n",
      "Loaded movie: Obsesia. Id: tt0113277. Reviews link: https://www.imdb.com/title/tt0113277/reviews\n",
      "Loaded movie: Cacealmaua. Id: tt0070735. Reviews link: https://www.imdb.com/title/tt0070735/reviews\n",
      "Loaded movie: Deasupra tuturor. Id: tt1049413. Reviews link: https://www.imdb.com/title/tt1049413/reviews\n",
      "Loaded movie: Nader și Simin, o despărțire. Id: tt1832382. Reviews link: https://www.imdb.com/title/tt1832382/reviews\n",
      "Loaded movie: Metropolis. Id: tt0017136. Reviews link: https://www.imdb.com/title/tt0017136/reviews\n",
      "Loaded movie: Șoferul de taxi. Id: tt0075314. Reviews link: https://www.imdb.com/title/tt0075314/reviews\n",
      "Loaded movie: L.A. Confidential. Id: tt0119488. Reviews link: https://www.imdb.com/title/tt0119488/reviews\n",
      "Loaded movie: Greu de ucis. Id: tt0095016. Reviews link: https://www.imdb.com/title/tt0095016/reviews\n",
      "Loaded movie: Unde dai și unde crapă. Id: tt0208092. Reviews link: https://www.imdb.com/title/tt0208092/reviews\n",
      "Loaded movie: Indiana Jones și ultima cruciadă. Id: tt0097576. Reviews link: https://www.imdb.com/title/tt0097576/reviews\n",
      "Loaded movie: Hoți de biciclete. Id: tt0040522. Reviews link: https://www.imdb.com/title/tt0040522/reviews\n",
      "Loaded movie: Ca stelele pe Pământ. Id: tt0986264. Reviews link: https://www.imdb.com/title/tt0986264/reviews\n",
      "Loaded movie: 1917: Speranță și moarte. Id: tt8579674. Reviews link: https://www.imdb.com/title/tt8579674/reviews\n",
      "Loaded movie: Ultimele zile ale lui Hitler. Id: tt0363163. Reviews link: https://www.imdb.com/title/tt0363163/reviews\n",
      "Loaded movie: Dangal. Id: tt5074352. Reviews link: https://www.imdb.com/title/tt5074352/reviews\n",
      "Loaded movie: Pentru câțiva dolari în plus. Id: tt0059578. Reviews link: https://www.imdb.com/title/tt0059578/reviews\n",
      "Loaded movie: Batman - Începuturi. Id: tt0372784. Reviews link: https://www.imdb.com/title/tt0372784/reviews\n",
      "Loaded movie: Piciul. Id: tt0012349. Reviews link: https://www.imdb.com/title/tt0012349/reviews\n",
      "Loaded movie: Unora le place jazzul. Id: tt0053291. Reviews link: https://www.imdb.com/title/tt0053291/reviews\n",
      "Loaded movie: The Father. Id: tt10272386. Reviews link: https://www.imdb.com/title/tt10272386/reviews\n",
      "Loaded movie: Totul despre Eva. Id: tt0042192. Reviews link: https://www.imdb.com/title/tt0042192/reviews\n",
      "Loaded movie: Lupul de pe Wall Street. Id: tt0993846. Reviews link: https://www.imdb.com/title/tt0993846/reviews\n",
      "Loaded movie: Green Book: O prietenie pe viață. Id: tt6966692. Reviews link: https://www.imdb.com/title/tt6966692/reviews\n",
      "Loaded movie: Procesul de la Nürnberg. Id: tt0055031. Reviews link: https://www.imdb.com/title/tt0055031/reviews\n",
      "Loaded movie: Casino. Id: tt0112641. Reviews link: https://www.imdb.com/title/tt0112641/reviews\n",
      "Loaded movie: Haos. Id: tt0089881. Reviews link: https://www.imdb.com/title/tt0089881/reviews\n",
      "Loaded movie: Labirintul lui Pan. Id: tt0457430. Reviews link: https://www.imdb.com/title/tt0457430/reviews\n",
      "Loaded movie: Truman Show. Id: tt0120382. Reviews link: https://www.imdb.com/title/tt0120382/reviews\n",
      "Loaded movie: Va curge sânge. Id: tt0469494. Reviews link: https://www.imdb.com/title/tt0469494/reviews\n",
      "Loaded movie: Necruțătorul. Id: tt0105695. Reviews link: https://www.imdb.com/title/tt0105695/reviews\n",
      "Loaded movie: Al șaselea simț. Id: tt0167404. Reviews link: https://www.imdb.com/title/tt0167404/reviews\n",
      "Loaded movie: Insula Shutter. Id: tt1130884. Reviews link: https://www.imdb.com/title/tt1130884/reviews\n",
      "Loaded movie: O minte sclipitoare. Id: tt0268978. Reviews link: https://www.imdb.com/title/tt0268978/reviews\n",
      "Loaded movie: Jurassic Park. Id: tt0107290. Reviews link: https://www.imdb.com/title/tt0107290/reviews\n",
      "Loaded movie: Garda de corp. Id: tt0055630. Reviews link: https://www.imdb.com/title/tt0055630/reviews\n",
      "Loaded movie: Comoara din Sierra Madre. Id: tt0040897. Reviews link: https://www.imdb.com/title/tt0040897/reviews\n",
      "Loaded movie: Monty Python și Sfântul Graal. Id: tt0071853. Reviews link: https://www.imdb.com/title/tt0071853/reviews\n",
      "Loaded movie: Marea evadare. Id: tt0057115. Reviews link: https://www.imdb.com/title/tt0057115/reviews\n",
      "Loaded movie: Nu există țară pentru bătrâni. Id: tt0477348. Reviews link: https://www.imdb.com/title/tt0477348/reviews\n",
      "Loaded movie: Kill Bill: Volumul 1. Id: tt0266697. Reviews link: https://www.imdb.com/title/tt0266697/reviews\n",
      "Loaded movie: Rashomon. Id: tt0042876. Reviews link: https://www.imdb.com/title/tt0042876/reviews\n",
      "Loaded movie: Omul-Păianjen: Niciun Drum Spre Casă. Id: tt10872600. Reviews link: https://www.imdb.com/title/tt10872600/reviews\n",
      "Loaded movie: Creatura. Id: tt0084787. Reviews link: https://www.imdb.com/title/tt0084787/reviews\n",
      "Loaded movie: În căutarea lui Nemo. Id: tt0266543. Reviews link: https://www.imdb.com/title/tt0266543/reviews\n",
      "Loaded movie: Omul elefant. Id: tt0080678. Reviews link: https://www.imdb.com/title/tt0080678/reviews\n",
      "Loaded movie: Cartierul chinezesc. Id: tt0071315. Reviews link: https://www.imdb.com/title/tt0071315/reviews\n",
      "Loaded movie: Taurul furios. Id: tt0081398. Reviews link: https://www.imdb.com/title/tt0081398/reviews\n",
      "Loaded movie: V de la Vendetta. Id: tt0434409. Reviews link: https://www.imdb.com/title/tt0434409/reviews\n",
      "Loaded movie: Pe aripile vântului. Id: tt0031381. Reviews link: https://www.imdb.com/title/tt0031381/reviews\n",
      "Loaded movie: Jocuri, poturi și focuri de armă. Id: tt0120735. Reviews link: https://www.imdb.com/title/tt0120735/reviews\n",
      "Loaded movie: Întors pe dos. Id: tt2096673. Reviews link: https://www.imdb.com/title/tt2096673/reviews\n",
      "Loaded movie: Cu C de la crimă. Id: tt0046912. Reviews link: https://www.imdb.com/title/tt0046912/reviews\n",
      "Loaded movie: Secretul. Id: tt1305806. Reviews link: https://www.imdb.com/title/tt1305806/reviews\n",
      "Loaded movie: Castelul umblător al lui Howl. Id: tt0347149. Reviews link: https://www.imdb.com/title/tt0347149/reviews\n",
      "Loaded movie: Trei panouri publicitare lângă Ebbing, Missouri. Id: tt5027774. Reviews link: https://www.imdb.com/title/tt5027774/reviews\n",
      "Loaded movie: Podul de pe râul Kwai. Id: tt0050212. Reviews link: https://www.imdb.com/title/tt0050212/reviews\n",
      "Loaded movie: Trainspotting - Din viață scapă cine poate. Id: tt0117951. Reviews link: https://www.imdb.com/title/tt0117951/reviews\n",
      "Loaded movie: Prizonieri. Id: tt1392214. Reviews link: https://www.imdb.com/title/tt1392214/reviews\n",
      "Loaded movie: Războinicul. Id: tt1291584. Reviews link: https://www.imdb.com/title/tt1291584/reviews\n",
      "Loaded movie: Fargo. Id: tt0116282. Reviews link: https://www.imdb.com/title/tt0116282/reviews\n",
      "Loaded movie: Gran Torino. Id: tt1205489. Reviews link: https://www.imdb.com/title/tt1205489/reviews\n",
      "Loaded movie: Vecinul meu Totoro. Id: tt0096283. Reviews link: https://www.imdb.com/title/tt0096283/reviews\n",
      "Loaded movie: Prinde-mă! Dacă poți!. Id: tt0264464. Reviews link: https://www.imdb.com/title/tt0264464/reviews\n",
      "Loaded movie: O fată de milioane. Id: tt0405159. Reviews link: https://www.imdb.com/title/tt0405159/reviews\n",
      "Loaded movie: Copiii paradisului. Id: tt0118849. Reviews link: https://www.imdb.com/title/tt0118849/reviews\n",
      "Loaded movie: Vânătorul de recompense. Id: tt0083658. Reviews link: https://www.imdb.com/title/tt0083658/reviews\n",
      "Loaded movie: Goana după aur. Id: tt0015864. Reviews link: https://www.imdb.com/title/tt0015864/reviews\n",
      "Loaded movie: Înainte de răsărit. Id: tt0112471. Reviews link: https://www.imdb.com/title/tt0112471/reviews\n",
      "Loaded movie: Klaus. Id: tt4729430. Reviews link: https://www.imdb.com/title/tt4729430/reviews\n",
      "Loaded movie: 12 ani de sclavie. Id: tt2024544. Reviews link: https://www.imdb.com/title/tt2024544/reviews\n",
      "Loaded movie: Harry Potter și Talismanele Morții: Partea a II-a. Id: tt1201607. Reviews link: https://www.imdb.com/title/tt1201607/reviews\n",
      "Loaded movie: Pe chei. Id: tt0047296. Reviews link: https://www.imdb.com/title/tt0047296/reviews\n",
      "Loaded movie: Ben-Hur. Id: tt0052618. Reviews link: https://www.imdb.com/title/tt0052618/reviews\n",
      "Loaded movie: Hotel Grand Budapest. Id: tt2278388. Reviews link: https://www.imdb.com/title/tt2278388/reviews\n",
      "Loaded movie: Fata dispărută. Id: tt2267998. Reviews link: https://www.imdb.com/title/tt2267998/reviews\n",
      "Loaded movie: Fragii sălbatici. Id: tt0050986. Reviews link: https://www.imdb.com/title/tt0050986/reviews\n",
      "Loaded movie: Mecanicul Generalei. Id: tt0017925. Reviews link: https://www.imdb.com/title/tt0017925/reviews\n",
      "Loaded movie: Al treilea om. Id: tt0041959. Reviews link: https://www.imdb.com/title/tt0041959/reviews\n",
      "Loaded movie: În numele tatălui. Id: tt0107207. Reviews link: https://www.imdb.com/title/tt0107207/reviews\n",
      "Loaded movie: Vânătorul de cerbi. Id: tt0077416. Reviews link: https://www.imdb.com/title/tt0077416/reviews\n",
      "Loaded movie: Barry Lyndon. Id: tt0072684. Reviews link: https://www.imdb.com/title/tt0072684/reviews\n",
      "Loaded movie: Fără armă în linia întâi. Id: tt2119532. Reviews link: https://www.imdb.com/title/tt2119532/reviews\n",
      "Loaded movie: Salariul groazei. Id: tt0046268. Reviews link: https://www.imdb.com/title/tt0046268/reviews\n",
      "Loaded movie: Salinui chueok. Id: tt0353969. Reviews link: https://www.imdb.com/title/tt0353969/reviews\n",
      "Loaded movie: Sherlock junior. Id: tt0015324. Reviews link: https://www.imdb.com/title/tt0015324/reviews\n",
      "Loaded movie: Povești trăsnite. Id: tt3011894. Reviews link: https://www.imdb.com/title/tt3011894/reviews\n",
      "Loaded movie: Domnul Smith merge la Washington. Id: tt0031679. Reviews link: https://www.imdb.com/title/tt0031679/reviews\n",
      "Loaded movie: Mad Max: Drumul furiei. Id: tt1392190. Reviews link: https://www.imdb.com/title/tt1392190/reviews\n",
      "Loaded movie: A șaptea pecete. Id: tt0050976. Reviews link: https://www.imdb.com/title/tt0050976/reviews\n",
      "Loaded movie: Mary și Max. Id: tt0978762. Reviews link: https://www.imdb.com/title/tt0978762/reviews\n",
      "Loaded movie: Cum să îți dresezi dragonul. Id: tt0892769. Reviews link: https://www.imdb.com/title/tt0892769/reviews\n",
      "Loaded movie: Camera. Id: tt3170832. Reviews link: https://www.imdb.com/title/tt3170832/reviews\n",
      "Loaded movie: Compania monștrilor. Id: tt0198781. Reviews link: https://www.imdb.com/title/tt0198781/reviews\n",
      "Loaded movie: Fălci. Id: tt0073195. Reviews link: https://www.imdb.com/title/tt0073195/reviews\n",
      "Loaded movie: Cercul poeților dispăruți. Id: tt0097165. Reviews link: https://www.imdb.com/title/tt0097165/reviews\n",
      "Loaded movie: Marele Lebowski. Id: tt0118715. Reviews link: https://www.imdb.com/title/tt0118715/reviews\n",
      "Loaded movie: Poveste din Tokyo. Id: tt0046438. Reviews link: https://www.imdb.com/title/tt0046438/reviews\n",
      "Loaded movie: Patimile Ioanei d'Arc. Id: tt0019254. Reviews link: https://www.imdb.com/title/tt0019254/reviews\n",
      "Loaded movie: Hotel Rwanda. Id: tt0395169. Reviews link: https://www.imdb.com/title/tt0395169/reviews\n",
      "Loaded movie: Marea provocare: Le Mans '66. Id: tt1950186. Reviews link: https://www.imdb.com/title/tt1950186/reviews\n",
      "Loaded movie: Rocky. Id: tt0075148. Reviews link: https://www.imdb.com/title/tt0075148/reviews\n",
      "Loaded movie: Plutonul. Id: tt0091763. Reviews link: https://www.imdb.com/title/tt0091763/reviews\n",
      "Loaded movie: Ratatouille. Id: tt0382932. Reviews link: https://www.imdb.com/title/tt0382932/reviews\n",
      "Loaded movie: Spotlight. Id: tt1895587. Reviews link: https://www.imdb.com/title/tt1895587/reviews\n",
      "Loaded movie: Executorul/Terminatorul. Id: tt0088247. Reviews link: https://www.imdb.com/title/tt0088247/reviews\n",
      "Loaded movie: Logan. Id: tt3315342. Reviews link: https://www.imdb.com/title/tt3315342/reviews\n",
      "Loaded movie: Prietenie. Id: tt0092005. Reviews link: https://www.imdb.com/title/tt0092005/reviews\n",
      "Loaded movie: Rush: Rivalitate și adrenalină. Id: tt1979320. Reviews link: https://www.imdb.com/title/tt1979320/reviews\n",
      "Loaded movie: Rețeaua. Id: tt0074958. Reviews link: https://www.imdb.com/title/tt0074958/reviews\n",
      "Loaded movie: Înainte de apus. Id: tt0381681. Reviews link: https://www.imdb.com/title/tt0381681/reviews\n",
      "Loaded movie: În sălbăticie. Id: tt0758758. Reviews link: https://www.imdb.com/title/tt0758758/reviews\n",
      "Loaded movie: Vrăjitorul din Oz. Id: tt0032138. Reviews link: https://www.imdb.com/title/tt0032138/reviews\n",
      "Loaded movie: Pather Panchali. Id: tt0048473. Reviews link: https://www.imdb.com/title/tt0048473/reviews\n",
      "Loaded movie: Ziua cârtiței. Id: tt0107048. Reviews link: https://www.imdb.com/title/tt0107048/reviews\n",
      "Loaded movie: Cei mai frumoși ani ai vieții noastre. Id: tt0036868. Reviews link: https://www.imdb.com/title/tt0036868/reviews\n",
      "Loaded movie: Exorcistul. Id: tt0070047. Reviews link: https://www.imdb.com/title/tt0070047/reviews\n",
      "Loaded movie: A fi sau a nu fi. Id: tt0035446. Reviews link: https://www.imdb.com/title/tt0035446/reviews\n",
      "Loaded movie: Incredibilii. Id: tt0317705. Reviews link: https://www.imdb.com/title/tt0317705/reviews\n",
      "Loaded movie: Ura. Id: tt0113247. Reviews link: https://www.imdb.com/title/tt0113247/reviews\n",
      "Loaded movie: Pirații din Caraibe: Blestemul Perlei Negre. Id: tt0325980. Reviews link: https://www.imdb.com/title/tt0325980/reviews\n",
      "Loaded movie: Bătălia pentru Alger. Id: tt0058946. Reviews link: https://www.imdb.com/title/tt0058946/reviews\n",
      "Loaded movie: Jai Bhim. Id: tt15097216. Reviews link: https://www.imdb.com/title/tt15097216/reviews\n",
      "Loaded movie: Fructele mâniei. Id: tt0032551. Reviews link: https://www.imdb.com/title/tt0032551/reviews\n",
      "Loaded movie: Hachiko: Povestea unui câine. Id: tt1028532. Reviews link: https://www.imdb.com/title/tt1028532/reviews\n",
      "Loaded movie: Tatăl meu și fiul meu. Id: tt0476735. Reviews link: https://www.imdb.com/title/tt0476735/reviews\n",
      "Loaded movie: Rebecca. Id: tt0032976. Reviews link: https://www.imdb.com/title/tt0032976/reviews\n",
      "Loaded movie: Iubiri și câini. Id: tt0245712. Reviews link: https://www.imdb.com/title/tt0245712/reviews\n",
      "Loaded movie: Luke, mână rece. Id: tt0061512. Reviews link: https://www.imdb.com/title/tt0061512/reviews\n",
      "Loaded movie: Slujnica. Id: tt4016934. Reviews link: https://www.imdb.com/title/tt4016934/reviews\n",
      "Loaded movie: Cele 400 de lovituri. Id: tt0053198. Reviews link: https://www.imdb.com/title/tt0053198/reviews\n",
      "Loaded movie: Sunetul muzicii. Id: tt0059742. Reviews link: https://www.imdb.com/title/tt0059742/reviews\n",
      "Loaded movie: S-a întâmplat într-o noapte. Id: tt0025316. Reviews link: https://www.imdb.com/title/tt0025316/reviews\n",
      "Loaded movie: Persona. Id: tt0060827. Reviews link: https://www.imdb.com/title/tt0060827/reviews\n",
      "Loaded movie: Viața lui Brian. Id: tt0079470. Reviews link: https://www.imdb.com/title/tt0079470/reviews\n",
      "Loaded movie: Uriașul de fier. Id: tt0129167. Reviews link: https://www.imdb.com/title/tt0129167/reviews\n",
      "Loaded movie: Dersu Uzala. Id: tt0071411. Reviews link: https://www.imdb.com/title/tt0071411/reviews\n",
      "Loaded movie: The Help. Id: tt1454029. Reviews link: https://www.imdb.com/title/tt1454029/reviews\n",
      "Loaded movie: Aladdin. Id: tt0103639. Reviews link: https://www.imdb.com/title/tt0103639/reviews\n",
      "Loaded movie: Gandhi. Id: tt0083987. Reviews link: https://www.imdb.com/title/tt0083987/reviews\n",
      "Loaded movie: Cel care dansează cu lupii. Id: tt0099348. Reviews link: https://www.imdb.com/title/tt0099348/reviews\n"
     ]
    }
   ],
   "source": [
    "import bs4\n",
    "import requests\n",
    "\n",
    "def parse_html(html):\n",
    "    return bs4.BeautifulSoup(html, \"html.parser\")\n",
    "\n",
    "def parse_html_from_link(link):\n",
    "    res = requests.get(link)\n",
    "    return parse_html(res.content)\n",
    "\n",
    "# Save all movies with their associated details, including reviews_links\n",
    "movies = list()\n",
    "html = parse_html_from_link(\"https://www.imdb.com/chart/top/\")\n",
    "tds = html.findAll(\"td\", attrs=\"titleColumn\")\n",
    "for td in tds:\n",
    "    a = td.find(\"a\")\n",
    "    link = a.attrs['href']\n",
    "    movie_id = link.split(\"/\")[2]\n",
    "    reviews_link = f\"https://www.imdb.com/title/{movie_id}/reviews\"\n",
    "    movies.append({\n",
    "        \"reviews_link\": reviews_link,\n",
    "        \"movie\": a.text,\n",
    "        \"movie_id\": movie_id\n",
    "    })\n",
    "    print(f\"Loaded movie: {a.text}. Id: {movie_id}. Reviews link: {reviews_link}\")\n",
    "\n"
   ]
  },
  {
   "cell_type": "markdown",
   "metadata": {
    "id": "wK56g-0W5I1p"
   },
   "source": [
    "2. Pentru fiecare film colectati date despre recenziile sale (titlu, text, rating, data, utlizator, etc.)"
   ]
  },
  {
   "cell_type": "code",
   "execution_count": 5,
   "metadata": {
    "id": "jXT34ayI5_qi"
   },
   "outputs": [
    {
     "name": "stdout",
     "output_type": "stream",
     "text": [
      "Saved movie reviews: Închisoarea îngerilor\n",
      "Saved movie reviews: Nașul\n",
      "Saved movie reviews: Cavalerul negru\n",
      "Saved movie reviews: Nașul: Partea a II-a\n",
      "Saved movie reviews: 12 Oameni mânioşi\n",
      "Saved movie reviews: Lista lui Schindler\n",
      "Saved movie reviews: Stăpânul inelelor: Întoarcerea regelui\n",
      "Saved movie reviews: Pulp Fiction\n",
      "Saved movie reviews: Stăpânul inelelor: Frăția inelului\n",
      "Saved movie reviews: Cel bun, cel rău, cel urât\n",
      "Saved movie reviews: Forrest Gump\n",
      "Saved movie reviews: Fight Club - Sala de lupte\n",
      "Saved movie reviews: Stăpânul inelelor: Cele două turnuri\n",
      "Saved movie reviews: Începutul\n",
      "Saved movie reviews: Războiul stelelor - Episodul V: Imperiul contraatacă\n",
      "Saved movie reviews: Matrix\n",
      "Saved movie reviews: Băieți buni\n",
      "Saved movie reviews: Zbor deasupra unui cuib de cuci\n",
      "Saved movie reviews: Se7en\n",
      "Saved movie reviews: Cei șapte samurai\n",
      "Saved movie reviews: O viață minunată\n",
      "Saved movie reviews: Tăcerea mieilor\n",
      "Saved movie reviews: Orașul zeilor\n",
      "Saved movie reviews: Salvați soldatul Ryan\n",
      "Saved movie reviews: Interstellar: Călătorind prin univers\n",
      "Saved movie reviews: Viața e frumoasă\n",
      "Saved movie reviews: Culoarul morții\n",
      "Saved movie reviews: Războiul stelelor - Episodul IV: O nouă speranță\n",
      "Saved movie reviews: Terminatorul 2: Ziua judecății\n",
      "Saved movie reviews: Înapoi în viitor\n",
      "Saved movie reviews: Călătoria lui Chihiro\n",
      "Saved movie reviews: Pianistul\n",
      "Saved movie reviews: Psycho\n",
      "Saved movie reviews: Parazit\n",
      "Saved movie reviews: Leon\n",
      "Saved movie reviews: The Lion King\n",
      "Saved movie reviews: Gladiatorul\n",
      "Saved movie reviews: Povestea X a Americii\n",
      "Saved movie reviews: Cârtița\n",
      "Saved movie reviews: Suspecți de serviciu\n",
      "Saved movie reviews: Prestigiul\n",
      "Saved movie reviews: Whiplash\n",
      "Saved movie reviews: Casablanca\n",
      "Saved movie reviews: Harakiri\n",
      "Saved movie reviews: Cimitirul licuricilor\n",
      "Saved movie reviews: Invincibilii\n",
      "Saved movie reviews: Timpuri noi\n",
      "Saved movie reviews: Undeva, cândva în Vest\n",
      "Saved movie reviews: În spatele ferestrei\n",
      "Saved movie reviews: Cinema Paradiso\n",
      "Saved movie reviews: Alien\n",
      "Saved movie reviews: Luminile orașului\n",
      "Saved movie reviews: Apocalipsul acum\n",
      "Saved movie reviews: Memento\n",
      "Saved movie reviews: Django dezlănțuit\n",
      "Saved movie reviews: Indiana Jones și căutătorii arcei pierdute\n",
      "Saved movie reviews: WALL-E\n",
      "Saved movie reviews: Viețile altora\n",
      "Saved movie reviews: Bulevardul amurgului\n",
      "Saved movie reviews: Cărările gloriei\n",
      "Saved movie reviews: Strălucirea\n",
      "Saved movie reviews: Dictatorul\n",
      "Saved movie reviews: Răzbunătorii: Războiul infinitului\n",
      "Saved movie reviews: Martorul acuzării\n",
      "Saved movie reviews: Alien 2 - Misiune de pedeapsă\n",
      "Saved movie reviews: Omul-Păianjen: În lumea păianjenului\n",
      "Saved movie reviews: Frumusețe americană\n",
      "Saved movie reviews: Dr. Strangelove sau cum am învățat să nu mă mai tem și să iubesc bomba\n",
      "Saved movie reviews: Cavalerul negru: Legenda renaște\n",
      "Saved movie reviews: Căinţă şi răzbunare\n",
      "Saved movie reviews: Ticăloși fără glorie\n",
      "Saved movie reviews: Amadeus\n",
      "Saved movie reviews: Coco\n",
      "Saved movie reviews: Povestea jucăriilor\n",
      "Saved movie reviews: Joker\n",
      "Saved movie reviews: Inimă neînfricată\n",
      "Saved movie reviews: Submarinul\n",
      "Saved movie reviews: Răzbunătorii: Sfârșitul jocului\n",
      "Saved movie reviews: Prințesa Mononoke\n",
      "Saved movie reviews: A fost odată în America\n",
      "Saved movie reviews: Bunul Will Hunting\n",
      "Saved movie reviews: Numele tău\n",
      "Saved movie reviews: 3 idioți\n",
      "Saved movie reviews: Cântând în ploaie\n",
      "Saved movie reviews: Requiem pentru un vis\n",
      "Saved movie reviews: Cerul și iadul\n",
      "Saved movie reviews: Povestea jucăriilor 3\n",
      "Saved movie reviews: Capernaum - Haos și speranță\n",
      "Saved movie reviews: Războiul stelelor - Episodul VI: Întoarcerea lui Jedi\n",
      "Saved movie reviews: Strălucirea eternă a minții neprihănite\n",
      "Saved movie reviews: Odiseea spațială 2001\n",
      "Saved movie reviews: Profesioniștii crimei\n",
      "Saved movie reviews: Vino si vezi\n",
      "Saved movie reviews: Vânătoarea\n",
      "Saved movie reviews: Cetățeanul Kane\n",
      "Saved movie reviews: M - Un oraș își caută ucigașul\n",
      "Saved movie reviews: Lawrence din Arabia\n",
      "Saved movie reviews: La nord, prin nord-vest\n",
      "Saved movie reviews: Amețeala\n",
      "Saved movie reviews: A trăi\n",
      "Saved movie reviews: Apartamentul\n",
      "Saved movie reviews: Amélie\n",
      "Saved movie reviews: Portocala mecanică\n",
      "Saved movie reviews: Asigurare de moarte\n",
      "Saved movie reviews: Glonţ cu cămaşă metalică\n",
      "Saved movie reviews: Scarface\n",
      "Saved movie reviews: Hamilton\n",
      "Saved movie reviews: Top Gun: Maverick\n",
      "Saved movie reviews: Incendii\n",
      "Saved movie reviews: Să ucizi o pasăre cântătoare\n",
      "Saved movie reviews: Obsesia\n",
      "Saved movie reviews: Cacealmaua\n",
      "Saved movie reviews: Deasupra tuturor\n",
      "Saved movie reviews: Nader și Simin, o despărțire\n",
      "Saved movie reviews: Metropolis\n",
      "Saved movie reviews: Șoferul de taxi\n",
      "Saved movie reviews: L.A. Confidential\n",
      "Saved movie reviews: Greu de ucis\n",
      "Saved movie reviews: Unde dai și unde crapă\n",
      "Saved movie reviews: Indiana Jones și ultima cruciadă\n",
      "Saved movie reviews: Hoți de biciclete\n",
      "Saved movie reviews: Ca stelele pe Pământ\n",
      "Saved movie reviews: 1917: Speranță și moarte\n",
      "Saved movie reviews: Ultimele zile ale lui Hitler\n",
      "Saved movie reviews: Dangal\n",
      "Saved movie reviews: Pentru câțiva dolari în plus\n",
      "Saved movie reviews: Batman - Începuturi\n",
      "Saved movie reviews: Piciul\n",
      "Saved movie reviews: Unora le place jazzul\n",
      "Saved movie reviews: The Father\n",
      "Saved movie reviews: Totul despre Eva\n",
      "Saved movie reviews: Lupul de pe Wall Street\n",
      "Saved movie reviews: Green Book: O prietenie pe viață\n",
      "Saved movie reviews: Procesul de la Nürnberg\n",
      "Saved movie reviews: Casino\n",
      "Saved movie reviews: Haos\n",
      "Saved movie reviews: Labirintul lui Pan\n",
      "Saved movie reviews: Truman Show\n",
      "Saved movie reviews: Va curge sânge\n",
      "Saved movie reviews: Necruțătorul\n",
      "Saved movie reviews: Al șaselea simț\n",
      "Saved movie reviews: Insula Shutter\n",
      "Saved movie reviews: O minte sclipitoare\n",
      "Saved movie reviews: Jurassic Park\n",
      "Saved movie reviews: Garda de corp\n",
      "Saved movie reviews: Comoara din Sierra Madre\n",
      "Saved movie reviews: Monty Python și Sfântul Graal\n",
      "Saved movie reviews: Marea evadare\n",
      "Saved movie reviews: Nu există țară pentru bătrâni\n",
      "Saved movie reviews: Kill Bill: Volumul 1\n",
      "Saved movie reviews: Rashomon\n",
      "Saved movie reviews: Omul-Păianjen: Niciun Drum Spre Casă\n",
      "Saved movie reviews: Creatura\n",
      "Saved movie reviews: În căutarea lui Nemo\n",
      "Saved movie reviews: Omul elefant\n",
      "Saved movie reviews: Cartierul chinezesc\n",
      "Saved movie reviews: Taurul furios\n",
      "Saved movie reviews: V de la Vendetta\n",
      "Saved movie reviews: Pe aripile vântului\n",
      "Saved movie reviews: Jocuri, poturi și focuri de armă\n",
      "Saved movie reviews: Întors pe dos\n",
      "Saved movie reviews: Cu C de la crimă\n",
      "Saved movie reviews: Secretul\n",
      "Saved movie reviews: Castelul umblător al lui Howl\n",
      "Saved movie reviews: Trei panouri publicitare lângă Ebbing, Missouri\n",
      "Saved movie reviews: Podul de pe râul Kwai\n",
      "Saved movie reviews: Trainspotting - Din viață scapă cine poate\n",
      "Saved movie reviews: Prizonieri\n",
      "Saved movie reviews: Războinicul\n",
      "Saved movie reviews: Fargo\n",
      "Saved movie reviews: Gran Torino\n",
      "Saved movie reviews: Vecinul meu Totoro\n",
      "Saved movie reviews: Prinde-mă! Dacă poți!\n",
      "Saved movie reviews: O fată de milioane\n",
      "Saved movie reviews: Copiii paradisului\n",
      "Saved movie reviews: Vânătorul de recompense\n",
      "Saved movie reviews: Goana după aur\n",
      "Saved movie reviews: Înainte de răsărit\n",
      "Saved movie reviews: Klaus\n",
      "Saved movie reviews: 12 ani de sclavie\n",
      "Saved movie reviews: Harry Potter și Talismanele Morții: Partea a II-a\n",
      "Saved movie reviews: Pe chei\n",
      "Saved movie reviews: Ben-Hur\n",
      "Saved movie reviews: Hotel Grand Budapest\n",
      "Saved movie reviews: Fata dispărută\n",
      "Saved movie reviews: Fragii sălbatici\n",
      "Saved movie reviews: Mecanicul Generalei\n",
      "Saved movie reviews: Al treilea om\n",
      "Saved movie reviews: În numele tatălui\n",
      "Saved movie reviews: Vânătorul de cerbi\n",
      "Saved movie reviews: Barry Lyndon\n",
      "Saved movie reviews: Fără armă în linia întâi\n",
      "Saved movie reviews: Salariul groazei\n",
      "Saved movie reviews: Salinui chueok\n",
      "Saved movie reviews: Sherlock junior\n",
      "Saved movie reviews: Povești trăsnite\n",
      "Saved movie reviews: Domnul Smith merge la Washington\n",
      "Saved movie reviews: Mad Max: Drumul furiei\n",
      "Saved movie reviews: A șaptea pecete\n",
      "Saved movie reviews: Mary și Max\n",
      "Saved movie reviews: Cum să îți dresezi dragonul\n",
      "Saved movie reviews: Camera\n",
      "Saved movie reviews: Compania monștrilor\n",
      "Saved movie reviews: Fălci\n",
      "Saved movie reviews: Cercul poeților dispăruți\n",
      "Saved movie reviews: Marele Lebowski\n",
      "Saved movie reviews: Poveste din Tokyo\n",
      "Saved movie reviews: Patimile Ioanei d'Arc\n",
      "Saved movie reviews: Hotel Rwanda\n",
      "Saved movie reviews: Marea provocare: Le Mans '66\n",
      "Saved movie reviews: Rocky\n",
      "Saved movie reviews: Plutonul\n",
      "Saved movie reviews: Ratatouille\n",
      "Saved movie reviews: Spotlight\n",
      "Saved movie reviews: Executorul/Terminatorul\n",
      "Saved movie reviews: Logan\n",
      "Saved movie reviews: Prietenie\n",
      "Saved movie reviews: Rush: Rivalitate și adrenalină\n",
      "Saved movie reviews: Rețeaua\n",
      "Saved movie reviews: Înainte de apus\n",
      "Saved movie reviews: În sălbăticie\n",
      "Saved movie reviews: Vrăjitorul din Oz\n",
      "Saved movie reviews: Pather Panchali\n",
      "Saved movie reviews: Ziua cârtiței\n",
      "Saved movie reviews: Cei mai frumoși ani ai vieții noastre\n",
      "Saved movie reviews: Exorcistul\n",
      "Saved movie reviews: A fi sau a nu fi\n",
      "Saved movie reviews: Incredibilii\n",
      "Saved movie reviews: Ura\n",
      "Saved movie reviews: Pirații din Caraibe: Blestemul Perlei Negre\n",
      "Saved movie reviews: Bătălia pentru Alger\n",
      "Saved movie reviews: Jai Bhim\n",
      "Saved movie reviews: Fructele mâniei\n",
      "Saved movie reviews: Hachiko: Povestea unui câine\n",
      "Saved movie reviews: Tatăl meu și fiul meu\n",
      "Saved movie reviews: Rebecca\n",
      "Saved movie reviews: Iubiri și câini\n",
      "Saved movie reviews: Luke, mână rece\n",
      "Saved movie reviews: Slujnica\n",
      "Saved movie reviews: Cele 400 de lovituri\n",
      "Saved movie reviews: Sunetul muzicii\n",
      "Saved movie reviews: S-a întâmplat într-o noapte\n",
      "Saved movie reviews: Persona\n",
      "Saved movie reviews: Viața lui Brian\n",
      "Saved movie reviews: Uriașul de fier\n",
      "Saved movie reviews: Dersu Uzala\n",
      "Saved movie reviews: The Help\n",
      "Saved movie reviews: Aladdin\n",
      "Saved movie reviews: Gandhi\n",
      "Saved movie reviews: Cel care dansează cu lupii\n"
     ]
    }
   ],
   "source": [
    "def parse_review_page(html_review):\n",
    "    reviews_tags = html_review.findAll(\"div\", attrs={\"class\": \"imdb-user-review\"})\n",
    "    reviews = []\n",
    "    for review_tag in reviews_tags:\n",
    "        title = review_tag.find(\"a\", attrs={\"class\": \"title\"}).text\n",
    "        text = review_tag.find(\"div\", attrs={\"class\": \"text\"}).text\n",
    "        try:\n",
    "            rating = review_tag.find(\"span\", attrs={\"class\": \"rating-other-user-rating\"}).find(\"span\").text\n",
    "        except:\n",
    "            rating = 0\n",
    "        data = review_tag.find(\"span\", attrs={\"class\": \"review-date\"}).text\n",
    "        username = review_tag.find(\"span\", attrs={\"class\": \"display-name-link\"}).find(\"a\").text\n",
    "        reviews.append({\n",
    "            \"title\": title,\n",
    "            \"text\": text,\n",
    "            \"data\": data,\n",
    "            \"rating\": rating,\n",
    "            \"username\": username,\n",
    "            \"movie\": movie['movie']\n",
    "        })\n",
    "    return reviews\n",
    "\n",
    "reviews = list()\n",
    "for movie in movies:\n",
    "    html_review = parse_html_from_link(movie['reviews_link'])\n",
    "    reviews.extend(parse_review_page(html_review))\n",
    "    print(f\"Saved movie reviews: {movie['movie']}\")"
   ]
  },
  {
   "cell_type": "markdown",
   "metadata": {
    "id": "RhcG_zFK6AFE"
   },
   "source": [
    "3. Creati un dataset de recenzii, pentru fiecare recenzie stocati:\n",
    " * filmul caruia ii apartine\n",
    " * titlul recenziei\n",
    " * textul recenziei\n",
    " * ratingul\n",
    " * data\n",
    " * utilizator\n",
    "\n",
    " Salvati datasetul intr-un fisier JSON."
   ]
  },
  {
   "cell_type": "code",
   "execution_count": null,
   "metadata": {
    "id": "4BYOWe4C6wz3"
   },
   "outputs": [],
   "source": [
    "import json\n",
    "with open(\"reviews.json\", \"w\") as f:\n",
    "    f.write(json.dumps(reviews))"
   ]
  },
  {
   "cell_type": "markdown",
   "metadata": {
    "id": "NtSpO-Ss6yF_"
   },
   "source": [
    "4. Pe o pagina cu recenzii putem gasi un numar mic de astfel de date. Butonul de \"Load more\" de la final, cand este apasat,\n",
    "produce un request care returneaza HTML-ul urmatoarelor recenzii.\n",
    "Folosind aceasta logica colectati automat pentru fiecare film un numar mai mare de recenzii."
   ]
  },
  {
   "cell_type": "code",
   "execution_count": null,
   "metadata": {
    "id": "aO3K690x7m4I"
   },
   "outputs": [],
   "source": [
    "reviews = list()\n",
    "for movie in movies:\n",
    "    html_review = parse_html_from_link(movie['reviews_link'])\n",
    "    limit_pages = 5\n",
    "    while html_review is not None and limit_pages > 0:\n",
    "        reviews.extend(parse_review_page(html_review))\n",
    "        pagination_key = html_review.find(\"div\", attrs={\"class\": \"load-more-data\"}).attrs['data-key']\n",
    "        html_review = parse_html_from_link(f\"https://www.imdb.com/title/{movie['movie_id']}/reviews/_ajax?ref_=undefined&paginationKey={pagination_key}\")\n",
    "        limit_pages -= 1\n",
    "    print(f\"Saved movie extended reviews (5 pages): {movie['movie']}\")\n",
    "\n",
    "with open(\"reviews_extended.json\", \"w\") as f:\n",
    "    f.write(json.dumps(reviews))\n"
   ]
  },
  {
   "cell_type": "code",
   "execution_count": null,
   "metadata": {},
   "outputs": [],
   "source": [
    "def view_html_from_link(link):\n",
    "    res = requests.get(link)\n",
    "    print(parse_html(res.content))\n",
    "\n",
    "view_html_from_link('https://www.imdb.com/chart/top/')"
   ]
  }
 ],
 "metadata": {
  "colab": {
   "collapsed_sections": [],
   "name": "lab1_draft",
   "provenance": []
  },
  "kernelspec": {
   "display_name": "Python 3",
   "language": "python",
   "name": "python3"
  },
  "language_info": {
   "codemirror_mode": {
    "name": "ipython",
    "version": 3
   },
   "file_extension": ".py",
   "mimetype": "text/x-python",
   "name": "python",
   "nbconvert_exporter": "python",
   "pygments_lexer": "ipython3",
   "version": "3.10.10"
  },
  "vscode": {
   "interpreter": {
    "hash": "fb4569285eef3a3450cb62085a5b1e0da4bce0af555edc33dcf29baf3acc1368"
   }
  }
 },
 "nbformat": 4,
 "nbformat_minor": 1
}
