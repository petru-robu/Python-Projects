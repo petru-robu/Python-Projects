{
 "cells": [
  {
   "cell_type": "code",
   "execution_count": 2,
   "metadata": {
    "collapsed": true
   },
   "outputs": [],
   "source": [
    "import os\n",
    "import cv2 as cv"
   ]
  },
  {
   "cell_type": "code",
   "execution_count": 3,
   "metadata": {
    "collapsed": false,
    "pycharm": {
     "name": "#%%\n"
    }
   },
   "outputs": [],
   "source": [
    "data_path = './antrenare'\n",
    "output_dir = './fete/'"
   ]
  },
  {
   "cell_type": "code",
   "execution_count": 10,
   "metadata": {},
   "outputs": [],
   "source": [
    "def create_dict_from_character(character: str):\n",
    "    annotation_file_name = character + '_annotations.txt'\n",
    "\n",
    "    f = open(os.path.join(data_path, annotation_file_name), 'r+')\n",
    "\n",
    "    dict_of_faces = {}\n",
    "\n",
    "    for line in f.readlines():\n",
    "        line = line.strip().split()\n",
    "\n",
    "        key = line[0]\n",
    "\n",
    "        if key not in dict_of_faces:\n",
    "            dict_of_faces[key] = []\n",
    "\n",
    "        dict_of_faces[key].append(line[1:])\n",
    "        \n",
    "    return dict_of_faces\n"
   ]
  },
  {
   "cell_type": "code",
   "execution_count": 11,
   "metadata": {},
   "outputs": [],
   "source": [
    "def solve(character :str):\n",
    "    if not os.path.exists(output_dir + character):\n",
    "        os.makedirs(output_dir + character)\n",
    "\n",
    "    dict_of_faces = create_dict_from_character(character)\n",
    "\n",
    "    for filename in os.listdir(os.path.join(data_path, character)):\n",
    "\n",
    "        img = cv.imread(data_path + '/' + character + '/' + filename)\n",
    "        k = 0\n",
    "\n",
    "        for detection in dict_of_faces[filename]:\n",
    "            xmin,ymin,xmax,ymax = int(detection[0]),int(detection[1]),int(detection[2]),int(detection[3])\n",
    "            face_name = output_dir + character + '/' + filename[:4] + '_' + str(k) + filename[-4:]\n",
    "            cv.imwrite(face_name, cv.resize(img[ymin:ymax, xmin:xmax], (100,100)))\n",
    "            k+=1\n",
    "    \n"
   ]
  },
  {
   "cell_type": "code",
   "execution_count": 12,
   "metadata": {
    "collapsed": false,
    "pycharm": {
     "name": "#%%\n"
    }
   },
   "outputs": [],
   "source": [
    "ls = [\"andy\", \"louie\", \"ora\", \"tommy\"]\n",
    "for character in ls:\n",
    "    solve(character)\n"
   ]
  }
 ],
 "metadata": {
  "kernelspec": {
   "display_name": "Python 3",
   "language": "python",
   "name": "python3"
  },
  "language_info": {
   "codemirror_mode": {
    "name": "ipython",
    "version": 3
   },
   "file_extension": ".py",
   "mimetype": "text/x-python",
   "name": "python",
   "nbconvert_exporter": "python",
   "pygments_lexer": "ipython3",
   "version": "3.10.10"
  },
  "vscode": {
   "interpreter": {
    "hash": "fb4569285eef3a3450cb62085a5b1e0da4bce0af555edc33dcf29baf3acc1368"
   }
  }
 },
 "nbformat": 4,
 "nbformat_minor": 0
}
